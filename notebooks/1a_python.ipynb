{
 "cells": [
  {
   "cell_type": "markdown",
   "metadata": {
    "colab_type": "text",
    "id": "view-in-github"
   },
   "source": [
    "<a href=\"https://colab.research.google.com/github/gibranfp/CursoAprendizajeProfundo/blob/master/notebooks/1a_python.ipynb\" target=\"_parent\"><img src=\"https://colab.research.google.com/assets/colab-badge.svg\" alt=\"Open In Colab\"/></a>\n",
    "\n"
   ]
  },
  {
   "cell_type": "markdown",
   "metadata": {},
   "source": [
    "# Introducción a Python\n",
    "\n",
    "<div style=\"text-align: right\"> Bere et Richardt </div>\n",
    "\n",
    "---\n",
    "\n",
    "[Python](https://www.python.org) es un lenguaje de programación interpretado que se distingue por ser sencillo y legible. Es multiparadigma (orientado a objetos, imperativo y un poco funcional), dinámico y multiplataforma.\n",
    "\n",
    "Debido a estas características y su amplio ecosistema de bibliotecas de cómputo científico se ha convertido en la lengua franca de la comunidad de aprendizaje automatizado.\n",
    "\n",
    "![python-antigravity](https://imgs.xkcd.com/comics/python.png)\n",
    "<div style=\"text-align: center\"> https://xkcd.com/353/ </div>"
   ]
  },
  {
   "cell_type": "markdown",
   "metadata": {},
   "source": [
    "---\n",
    "### 1 Variables\n",
    "\n",
    "![variable-naming](http://www.commitstrip.com/wp-content/uploads/2015/10/Strip-Trouver-le-nom-de-variable-english650-final.jpg)\n",
    "<div style=\"text-align: center\"> http://www.commitstrip.com/en/2015/10/27/one-of-the-coders-hardest-problems </div>\n",
    "\n",
    "Definición:"
   ]
  },
  {
   "cell_type": "code",
   "execution_count": 1,
   "metadata": {},
   "outputs": [
    {
     "data": {
      "text/plain": [
       "(True, 7, 3.141592, (1+1j))"
      ]
     },
     "execution_count": 1,
     "metadata": {},
     "output_type": "execute_result"
    }
   ],
   "source": [
    "# lógicos\n",
    "a = True     # bool\n",
    "b = False    # bool\n",
    "\n",
    "# numéricos\n",
    "i = 7        # int\n",
    "f = 3.141592 # float\n",
    "c = 1 + 1j   # complex\n",
    "\n",
    "a, i, f, c"
   ]
  },
  {
   "cell_type": "code",
   "execution_count": 2,
   "metadata": {},
   "outputs": [
    {
     "data": {
      "text/plain": [
       "('aprendizaje automatizado', str)"
      ]
     },
     "execution_count": 2,
     "metadata": {},
     "output_type": "execute_result"
    }
   ],
   "source": [
    "# cadenas\n",
    "s = 'aprendizaje automatizado' # str\n",
    "\n",
    "# type(x) obtiene el tipo de x\n",
    "s, type(s)"
   ]
  },
  {
   "cell_type": "markdown",
   "metadata": {},
   "source": [
    "Aritmética y operadores:"
   ]
  },
  {
   "cell_type": "code",
   "execution_count": 3,
   "metadata": {},
   "outputs": [
    {
     "data": {
      "text/plain": [
       "(False, False, True)"
      ]
     },
     "execution_count": 3,
     "metadata": {},
     "output_type": "execute_result"
    }
   ],
   "source": [
    "# lógicos (evaluación perezosa)\n",
    "not a, a and b, a or b"
   ]
  },
  {
   "cell_type": "code",
   "execution_count": 4,
   "metadata": {},
   "outputs": [
    {
     "data": {
      "text/plain": [
       "(8, 2.141592, (2+2j), 1.570796, 1.0, 49, 1)"
      ]
     },
     "execution_count": 4,
     "metadata": {},
     "output_type": "execute_result"
    }
   ],
   "source": [
    "# numéricos\n",
    "i + 1, f - 1, c * 2, f / 2, f // 2, i ** 2, i % 2"
   ]
  },
  {
   "cell_type": "code",
   "execution_count": 5,
   "metadata": {},
   "outputs": [
    {
     "data": {
      "text/plain": [
       "('a', 'automatizado', 'aprendizaje ', 'e aut')"
      ]
     },
     "execution_count": 5,
     "metadata": {},
     "output_type": "execute_result"
    }
   ],
   "source": [
    "# cadenas acceso\n",
    "s[12], s[12:], s[:12], s[10:15]"
   ]
  },
  {
   "cell_type": "code",
   "execution_count": 6,
   "metadata": {},
   "outputs": [
    {
     "data": {
      "text/plain": [
       "('aprendizaje automatizado', 'et patati et patata et patati et patata ')"
      ]
     },
     "execution_count": 6,
     "metadata": {},
     "output_type": "execute_result"
    }
   ],
   "source": [
    "# cadenas concatenación\n",
    "'aprendizaje' + ' ' + 'automatizado', 'et patati et patata ' * 2"
   ]
  },
  {
   "cell_type": "code",
   "execution_count": 7,
   "metadata": {},
   "outputs": [
    {
     "data": {
      "text/plain": [
       "'et patati et patata et patati et patata '"
      ]
     },
     "execution_count": 7,
     "metadata": {},
     "output_type": "execute_result"
    }
   ],
   "source": [
    "# cadenas multiplicación\n",
    "\"et patati et patata \" * 2"
   ]
  },
  {
   "cell_type": "markdown",
   "metadata": {},
   "source": [
    "---\n",
    "### 2 Colecciones"
   ]
  },
  {
   "cell_type": "markdown",
   "metadata": {},
   "source": [
    "#### 2.1 Listas\n",
    "\n",
    "Colección de elementos con orden (indizado en cero), admite repetidos y se puede modificar (mutable).\n",
    "\n",
    "Definición por extensión:"
   ]
  },
  {
   "cell_type": "code",
   "execution_count": 8,
   "metadata": {},
   "outputs": [
    {
     "data": {
      "text/plain": [
       "[0, 1, 2, 3, 4]"
      ]
     },
     "execution_count": 8,
     "metadata": {},
     "output_type": "execute_result"
    }
   ],
   "source": [
    "# lista de constantes\n",
    "l = [0, 1, 2, 3, 4]\n",
    "l"
   ]
  },
  {
   "cell_type": "code",
   "execution_count": 9,
   "metadata": {},
   "outputs": [
    {
     "data": {
      "text/plain": [
       "[True, 7, 3.141592, (1+1j), 'aprendizaje automatizado']"
      ]
     },
     "execution_count": 9,
     "metadata": {},
     "output_type": "execute_result"
    }
   ],
   "source": [
    "# lista mixta\n",
    "l2 = [True, 7, 3.141592, 1 + 1j, 'aprendizaje automatizado']\n",
    "l2"
   ]
  },
  {
   "cell_type": "code",
   "execution_count": 10,
   "metadata": {},
   "outputs": [
    {
     "data": {
      "text/plain": [
       "[True, 7, 3.141592, (1+1j), 'aprendizaje automatizado']"
      ]
     },
     "execution_count": 10,
     "metadata": {},
     "output_type": "execute_result"
    }
   ],
   "source": [
    "# lista de variables\n",
    "l3 = [a, i, f, c, s]\n",
    "l3"
   ]
  },
  {
   "cell_type": "code",
   "execution_count": 11,
   "metadata": {},
   "outputs": [
    {
     "data": {
      "text/plain": [
       "[[0, 1], [2, 3]]"
      ]
     },
     "execution_count": 11,
     "metadata": {},
     "output_type": "execute_result"
    }
   ],
   "source": [
    "# lista de listas (matriz)\n",
    "l4 = [[0, 1], [2, 3]]\n",
    "l4"
   ]
  },
  {
   "cell_type": "markdown",
   "metadata": {},
   "source": [
    "Lectura:"
   ]
  },
  {
   "cell_type": "code",
   "execution_count": 12,
   "metadata": {},
   "outputs": [
    {
     "data": {
      "text/plain": [
       "(0, 2, 4)"
      ]
     },
     "execution_count": 12,
     "metadata": {},
     "output_type": "execute_result"
    }
   ],
   "source": [
    "# acceso, indizado en cero e inverso\n",
    "l[0], l[2], l[-1]"
   ]
  },
  {
   "cell_type": "code",
   "execution_count": 13,
   "metadata": {},
   "outputs": [
    {
     "data": {
      "text/plain": [
       "([1, 2], [2, 3, 4], [0, 1])"
      ]
     },
     "execution_count": 13,
     "metadata": {},
     "output_type": "execute_result"
    }
   ],
   "source": [
    "# rebanadas: regresan una sublista nueva en el intervalo [a, b)\n",
    "# l = [0, 1, 2, 3, 4]\n",
    "l[1:3], l[2:], l[:2]"
   ]
  },
  {
   "cell_type": "markdown",
   "metadata": {},
   "source": [
    "Escritura"
   ]
  },
  {
   "cell_type": "code",
   "execution_count": 14,
   "metadata": {},
   "outputs": [
    {
     "data": {
      "text/plain": [
       "-1"
      ]
     },
     "execution_count": 14,
     "metadata": {},
     "output_type": "execute_result"
    }
   ],
   "source": [
    "# modificación\n",
    "lm = list(l) # crea una copia\n",
    "lm[0] = -1   # sobreescribe\n",
    "lm[0]"
   ]
  },
  {
   "cell_type": "markdown",
   "metadata": {},
   "source": [
    "Aritmética y operadores:"
   ]
  },
  {
   "cell_type": "code",
   "execution_count": 15,
   "metadata": {},
   "outputs": [
    {
     "data": {
      "text/plain": [
       "([0, 1, 2, 3], [0, 0, 0, 0, 0])"
      ]
     },
     "execution_count": 15,
     "metadata": {},
     "output_type": "execute_result"
    }
   ],
   "source": [
    "# concatenación y producto\n",
    "[0, 1] + [2, 3], [0] * 5"
   ]
  },
  {
   "cell_type": "code",
   "execution_count": 16,
   "metadata": {},
   "outputs": [
    {
     "data": {
      "text/plain": [
       "(5, True)"
      ]
     },
     "execution_count": 16,
     "metadata": {},
     "output_type": "execute_result"
    }
   ],
   "source": [
    "# tamaño y pertenencia\n",
    "len(l), 2 in l"
   ]
  },
  {
   "cell_type": "markdown",
   "metadata": {},
   "source": [
    "Métodos (funciones asociadas):"
   ]
  },
  {
   "cell_type": "code",
   "execution_count": 17,
   "metadata": {},
   "outputs": [
    {
     "data": {
      "text/plain": [
       "[0, 1, 2, 3, 4, -1]"
      ]
     },
     "execution_count": 17,
     "metadata": {},
     "output_type": "execute_result"
    }
   ],
   "source": [
    "l = [0, 1, 2, 3, 4]\n",
    "\n",
    "# append(x) agrega x al final de la lista\n",
    "l.append(-1)\n",
    "l"
   ]
  },
  {
   "cell_type": "code",
   "execution_count": 18,
   "metadata": {},
   "outputs": [
    {
     "data": {
      "text/plain": [
       "[0, 1, 2, 3, 4]"
      ]
     },
     "execution_count": 18,
     "metadata": {},
     "output_type": "execute_result"
    }
   ],
   "source": [
    "# pop() elimina al final de la lista\n",
    "l.pop() # regresa el elemento\n",
    "l"
   ]
  },
  {
   "cell_type": "code",
   "execution_count": 19,
   "metadata": {},
   "outputs": [
    {
     "data": {
      "text/plain": [
       "[-1, 0, 1, 2, 3, 4]"
      ]
     },
     "execution_count": 19,
     "metadata": {},
     "output_type": "execute_result"
    }
   ],
   "source": [
    "# insert(i, x) agrega x en la posición i\n",
    "l.insert(0, -1)\n",
    "l"
   ]
  },
  {
   "cell_type": "code",
   "execution_count": 20,
   "metadata": {},
   "outputs": [
    {
     "data": {
      "text/plain": [
       "[0, 1, 2, 3, 4]"
      ]
     },
     "execution_count": 20,
     "metadata": {},
     "output_type": "execute_result"
    }
   ],
   "source": [
    "# pop(i) elimina en la posición i\n",
    "l.pop(0)\n",
    "l"
   ]
  },
  {
   "cell_type": "code",
   "execution_count": 21,
   "metadata": {},
   "outputs": [
    {
     "data": {
      "text/plain": [
       "[0, 1, 2, 3]"
      ]
     },
     "execution_count": 21,
     "metadata": {},
     "output_type": "execute_result"
    }
   ],
   "source": [
    "# remove(x) remueve x de la lista\n",
    "l.remove(4)\n",
    "l"
   ]
  },
  {
   "cell_type": "code",
   "execution_count": 22,
   "metadata": {},
   "outputs": [
    {
     "data": {
      "text/plain": [
       "[0, 1, 2, 3, 9, 8, 7, 6, 5, 4]"
      ]
     },
     "execution_count": 22,
     "metadata": {},
     "output_type": "execute_result"
    }
   ],
   "source": [
    "# extend(l2) agrega los elementos de una segunda lista l2 (in situ)\n",
    "l.extend([9, 8, 7, 6, 5, 4])\n",
    "l"
   ]
  },
  {
   "cell_type": "code",
   "execution_count": 23,
   "metadata": {},
   "outputs": [
    {
     "data": {
      "text/plain": [
       "[0, 1, 2, 3, 4, 5, 6, 7, 8, 9]"
      ]
     },
     "execution_count": 23,
     "metadata": {},
     "output_type": "execute_result"
    }
   ],
   "source": [
    "# sort() ordena ascendente por defecto (in situ)\n",
    "l.sort()\n",
    "l"
   ]
  },
  {
   "cell_type": "code",
   "execution_count": 24,
   "metadata": {},
   "outputs": [
    {
     "data": {
      "text/plain": [
       "[9, 8, 7, 6, 5, 4, 3, 2, 1, 0]"
      ]
     },
     "execution_count": 24,
     "metadata": {},
     "output_type": "execute_result"
    }
   ],
   "source": [
    "# reversed() invierte la lista (in situ)\n",
    "l.reverse()\n",
    "l"
   ]
  },
  {
   "cell_type": "markdown",
   "metadata": {},
   "source": [
    "#### 2.2 Tuplas\n",
    "Colección de elementos con orden (indizado en cero), admite repetidos y no se puede modificar (inmutable).\n",
    "\n",
    "Definición por extensión:"
   ]
  },
  {
   "cell_type": "code",
   "execution_count": 25,
   "metadata": {},
   "outputs": [
    {
     "data": {
      "text/plain": [
       "((0, 1, 2, 3, 4), tuple)"
      ]
     },
     "execution_count": 25,
     "metadata": {},
     "output_type": "execute_result"
    }
   ],
   "source": [
    "t = (0, 1, 2, 3, 4)\n",
    "t, type(t)"
   ]
  },
  {
   "cell_type": "markdown",
   "metadata": {},
   "source": [
    "Soporta las mismas operciones que una lista con excepción de las de escritura."
   ]
  },
  {
   "cell_type": "code",
   "execution_count": 26,
   "metadata": {},
   "outputs": [
    {
     "data": {
      "text/plain": [
       "(1, 0)"
      ]
     },
     "execution_count": 26,
     "metadata": {},
     "output_type": "execute_result"
    }
   ],
   "source": [
    "# asignación por intercambio (tuplas implícitas)\n",
    "a, b = 0, 1\n",
    "a, b = b, a\n",
    "a, b"
   ]
  },
  {
   "cell_type": "markdown",
   "metadata": {},
   "source": [
    "#### 2.3 Diccionarios\n",
    "\n",
    "Arreglo asociativo llave-valor (mutable), las llaves son únicas mientras que los valores se pueden repetir.\n",
    "\n",
    "Definición por extensión:"
   ]
  },
  {
   "cell_type": "code",
   "execution_count": 27,
   "metadata": {},
   "outputs": [
    {
     "data": {
      "text/plain": [
       "{'a': 0, 'b': 1, 'c': 2, 'd': 3, 'e': -1}"
      ]
     },
     "execution_count": 27,
     "metadata": {},
     "output_type": "execute_result"
    }
   ],
   "source": [
    "d = {'a': 0, 'b': 1, 'c': 2, 'd': 3, 'e': -1}\n",
    "d"
   ]
  },
  {
   "cell_type": "markdown",
   "metadata": {},
   "source": [
    "Lectura:"
   ]
  },
  {
   "cell_type": "code",
   "execution_count": 28,
   "metadata": {},
   "outputs": [
    {
     "data": {
      "text/plain": [
       "2"
      ]
     },
     "execution_count": 28,
     "metadata": {},
     "output_type": "execute_result"
    }
   ],
   "source": [
    "d['c']"
   ]
  },
  {
   "cell_type": "markdown",
   "metadata": {},
   "source": [
    "Escritura:"
   ]
  },
  {
   "cell_type": "code",
   "execution_count": 29,
   "metadata": {},
   "outputs": [
    {
     "data": {
      "text/plain": [
       "({'a': 0, 'b': 1, 'c': 2, 'd': 3, 'e': 4, 'f': 5}, 0)"
      ]
     },
     "execution_count": 29,
     "metadata": {},
     "output_type": "execute_result"
    }
   ],
   "source": [
    "# modificar\n",
    "d['e'] = 4\n",
    "# agregar\n",
    "d['f'] = 5\n",
    "d, d['a']"
   ]
  },
  {
   "cell_type": "code",
   "execution_count": 30,
   "metadata": {},
   "outputs": [
    {
     "data": {
      "text/plain": [
       "{'a': 0, 'b': 1, 'c': 2, 'd': 3, 'e': 4}"
      ]
     },
     "execution_count": 30,
     "metadata": {},
     "output_type": "execute_result"
    }
   ],
   "source": [
    "# elimiar un elemento\n",
    "del d['f']\n",
    "d"
   ]
  },
  {
   "cell_type": "code",
   "execution_count": 31,
   "metadata": {},
   "outputs": [
    {
     "data": {
      "text/plain": [
       "(5, True)"
      ]
     },
     "execution_count": 31,
     "metadata": {},
     "output_type": "execute_result"
    }
   ],
   "source": [
    "# tamaño y pertenencia\n",
    "len(d), 'c' in d"
   ]
  },
  {
   "cell_type": "markdown",
   "metadata": {},
   "source": [
    "Métodos:"
   ]
  },
  {
   "cell_type": "code",
   "execution_count": 32,
   "metadata": {},
   "outputs": [
    {
     "data": {
      "text/plain": [
       "dict_keys(['a', 'b', 'c', 'd', 'e'])"
      ]
     },
     "execution_count": 32,
     "metadata": {},
     "output_type": "execute_result"
    }
   ],
   "source": [
    "# keys() regresa una lista de las llaves\n",
    "d.keys()"
   ]
  },
  {
   "cell_type": "code",
   "execution_count": 33,
   "metadata": {},
   "outputs": [
    {
     "data": {
      "text/plain": [
       "dict_values([0, 1, 2, 3, 4])"
      ]
     },
     "execution_count": 33,
     "metadata": {},
     "output_type": "execute_result"
    }
   ],
   "source": [
    "# values() regresa una lista de los valores\n",
    "d.values()"
   ]
  },
  {
   "cell_type": "code",
   "execution_count": 34,
   "metadata": {},
   "outputs": [
    {
     "data": {
      "text/plain": [
       "dict_items([('a', 0), ('b', 1), ('c', 2), ('d', 3), ('e', 4)])"
      ]
     },
     "execution_count": 34,
     "metadata": {},
     "output_type": "execute_result"
    }
   ],
   "source": [
    "# items() regresa una lista de pares llave-valor\n",
    "d.items()"
   ]
  },
  {
   "cell_type": "code",
   "execution_count": 35,
   "metadata": {},
   "outputs": [
    {
     "data": {
      "text/plain": [
       "(0, 26)"
      ]
     },
     "execution_count": 35,
     "metadata": {},
     "output_type": "execute_result"
    }
   ],
   "source": [
    "# get() obtiene un valor para una llave dada,\n",
    "# acepta un valor por defecto en caso de una llave inexistente\n",
    "d.get('a'), d.get('z', 26) "
   ]
  },
  {
   "cell_type": "markdown",
   "metadata": {},
   "source": [
    "---\n",
    "### 3 Condicionales y ciclos\n",
    "\n",
    "#### 3.1 ``if``, ``elif`` y ``else``"
   ]
  },
  {
   "cell_type": "code",
   "execution_count": 36,
   "metadata": {},
   "outputs": [
    {
     "name": "stdout",
     "output_type": "stream",
     "text": [
      "condicional simple 1\n",
      "condicional par 1\n",
      "condicional múltiple 2\n"
     ]
    }
   ],
   "source": [
    "predicado = True\n",
    "\n",
    "# condicional simple\n",
    "if predicado:\n",
    "    print(\"condicional simple 1\")\n",
    "if not predicado:\n",
    "    print(\"condicional simple 2\")\n",
    "\n",
    "# condicional par\n",
    "if predicado:\n",
    "    print(\"condicional par 1\")\n",
    "else:\n",
    "    print(\"condicional par 2\")\n",
    "\n",
    "# condicional múltiple\n",
    "if predicado and not predicado:\n",
    "    print(\"condicional múltiple 1\")\n",
    "elif predicado and predicado:\n",
    "    print(\"condicional múltiple 2\")\n",
    "else:\n",
    "    print(\"condicional múltiple 3\")"
   ]
  },
  {
   "cell_type": "markdown",
   "metadata": {},
   "source": [
    "#### 3.2 ``for``"
   ]
  },
  {
   "cell_type": "code",
   "execution_count": 37,
   "metadata": {},
   "outputs": [
    {
     "name": "stdout",
     "output_type": "stream",
     "text": [
      "9\n",
      "8\n",
      "7\n",
      "6\n",
      "5\n",
      "4\n",
      "3\n",
      "2\n",
      "1\n",
      "0\n"
     ]
    }
   ],
   "source": [
    "# recorriendo una lista/tupla\n",
    "for x in l:\n",
    "    print(x)"
   ]
  },
  {
   "cell_type": "code",
   "execution_count": 38,
   "metadata": {},
   "outputs": [
    {
     "name": "stdout",
     "output_type": "stream",
     "text": [
      "a 0\n",
      "b 1\n",
      "c 2\n",
      "d 3\n",
      "e 4\n"
     ]
    }
   ],
   "source": [
    "# recorriendo un diccionario\n",
    "for k, v in d.items():\n",
    "    print(k, v)"
   ]
  },
  {
   "cell_type": "code",
   "execution_count": 39,
   "metadata": {},
   "outputs": [
    {
     "name": "stdout",
     "output_type": "stream",
     "text": [
      "0\n",
      "2\n",
      "4\n",
      "6\n",
      "8\n"
     ]
    }
   ],
   "source": [
    "# for tipo C\n",
    "for i in range(0, 10, 2):\n",
    "    print(i)"
   ]
  },
  {
   "cell_type": "markdown",
   "metadata": {},
   "source": [
    "#### 3.3 ``while``"
   ]
  },
  {
   "cell_type": "code",
   "execution_count": 41,
   "metadata": {},
   "outputs": [
    {
     "name": "stdout",
     "output_type": "stream",
     "text": [
      "0.038551839337380045\n",
      "0.6962243226370528\n",
      "0.14393322139536102\n",
      "0.46253225482908755\n",
      "0.671646764117767\n",
      "0.7929512716552943\n"
     ]
    }
   ],
   "source": [
    "# importamos un módulo\n",
    "import random\n",
    "\n",
    "# fijamos la semilla\n",
    "random.seed(43)\n",
    "\n",
    "continuar = True\n",
    "while continuar:\n",
    "    # r es un pseudo aleatorio en [0, 1) \n",
    "    r = random.random() \n",
    "    print(r)\n",
    "    if r > 0.75:\n",
    "        continuar = False  "
   ]
  },
  {
   "cell_type": "markdown",
   "metadata": {},
   "source": [
    "---\n",
    "### Quiz A"
   ]
  },
  {
   "cell_type": "code",
   "execution_count": 44,
   "metadata": {},
   "outputs": [
    {
     "name": "stdout",
     "output_type": "stream",
     "text": [
      "0 <-----> 0\n",
      "1 <-----> 1\n",
      "4 <-----> 8\n",
      "9 <-----> 27\n",
      "16 <-----> 64\n",
      "25 <-----> 125\n",
      "36 <-----> 216\n",
      "49 <-----> 343\n",
      "64 <-----> 512\n",
      "81 <-----> 729\n"
     ]
    }
   ],
   "source": [
    "# escribe código para imprimir el cuadrado \n",
    "# de los primeros 10 números enteros\n",
    "# ej: 0, 1, 8, 27, ...\n",
    "for i in range(10):\n",
    "    print(i**2, '<----->', i**3)"
   ]
  },
  {
   "cell_type": "markdown",
   "metadata": {},
   "source": [
    "---\n",
    "### 4 Funciones\n",
    "\n",
    "Función sin argumentos y sin retorno:"
   ]
  },
  {
   "cell_type": "code",
   "execution_count": 45,
   "metadata": {},
   "outputs": [
    {
     "name": "stdout",
     "output_type": "stream",
     "text": [
      "Servus!\n"
     ]
    }
   ],
   "source": [
    "def saludar():\n",
    "    print('Servus!')\n",
    "\n",
    "saludar()"
   ]
  },
  {
   "cell_type": "markdown",
   "metadata": {},
   "source": [
    "Función un argumento y un valor de retorno:"
   ]
  },
  {
   "cell_type": "code",
   "execution_count": 46,
   "metadata": {},
   "outputs": [
    {
     "data": {
      "text/plain": [
       "25"
      ]
     },
     "execution_count": 46,
     "metadata": {},
     "output_type": "execute_result"
    }
   ],
   "source": [
    "def cuadrado(x):\n",
    "    return x ** 2\n",
    "\n",
    "cuadrado(5)"
   ]
  },
  {
   "cell_type": "markdown",
   "metadata": {},
   "source": [
    "Función con múltiples argumentos y valores de retorno:"
   ]
  },
  {
   "cell_type": "code",
   "execution_count": 47,
   "metadata": {},
   "outputs": [
    {
     "data": {
      "text/plain": [
       "(3, -1)"
      ]
     },
     "execution_count": 47,
     "metadata": {},
     "output_type": "execute_result"
    }
   ],
   "source": [
    "def suma_y_resta(x, y):\n",
    "    return x + y, x - y\n",
    "\n",
    "suma_y_resta(1, 2)"
   ]
  },
  {
   "cell_type": "markdown",
   "metadata": {},
   "source": [
    "Función con argumento por defecto:"
   ]
  },
  {
   "cell_type": "code",
   "execution_count": 48,
   "metadata": {},
   "outputs": [
    {
     "data": {
      "text/plain": [
       "(16, 2.0)"
      ]
     },
     "execution_count": 48,
     "metadata": {},
     "output_type": "execute_result"
    }
   ],
   "source": [
    "def cuadrado_o_raiz(x, op='raiz'):\n",
    "    if op == 'cuadrado':\n",
    "        return x ** 2\n",
    "    else:\n",
    "        return x ** .5\n",
    "\n",
    "cuadrado_o_raiz(4, 'cuadrado'), cuadrado_o_raiz(4)"
   ]
  },
  {
   "cell_type": "markdown",
   "metadata": {},
   "source": [
    "Función recursiva que suma una lista:"
   ]
  },
  {
   "cell_type": "code",
   "execution_count": 49,
   "metadata": {},
   "outputs": [
    {
     "data": {
      "text/plain": [
       "10"
      ]
     },
     "execution_count": 49,
     "metadata": {},
     "output_type": "execute_result"
    }
   ],
   "source": [
    "def list_rec_sum(l):\n",
    "    n = len(l)\n",
    "    if n == 0:\n",
    "        return 0\n",
    "    elif n == 1:\n",
    "        return l[0]\n",
    "    else:\n",
    "        m = n // 2\n",
    "        return list_rec_sum(l[:m]) + list_rec_sum(l[m:])\n",
    "\n",
    "list_rec_sum([0, 1, 2, 3, 4])"
   ]
  },
  {
   "cell_type": "markdown",
   "metadata": {},
   "source": [
    "Función con una función como argumento:"
   ]
  },
  {
   "cell_type": "code",
   "execution_count": 50,
   "metadata": {},
   "outputs": [
    {
     "data": {
      "text/plain": [
       "[0, 1, 4]"
      ]
     },
     "execution_count": 50,
     "metadata": {},
     "output_type": "execute_result"
    }
   ],
   "source": [
    "def fmap(fn, l):\n",
    "    r = []\n",
    "    for x in l:\n",
    "        r.append(fn(x))\n",
    "    return r\n",
    "\n",
    "fmap(cuadrado, [0, 1, 2])"
   ]
  },
  {
   "cell_type": "markdown",
   "metadata": {},
   "source": [
    "### Quiz B"
   ]
  },
  {
   "cell_type": "code",
   "execution_count": 54,
   "metadata": {},
   "outputs": [
    {
     "data": {
      "text/plain": [
       "(4, 0, 4, 1.0, 1.0)"
      ]
     },
     "execution_count": 54,
     "metadata": {},
     "output_type": "execute_result"
    }
   ],
   "source": [
    "# implementa la función aritmetica(·) con el siguiente comportamiento:\n",
    "# aritmetica(x, y, op='+') => x + y\n",
    "# aritmetica(x, y, op='-') => x - y\n",
    "# aritmetica(x, y, op='*') => x * y\n",
    "# aritmetica(x, y, op='/') => x / y\n",
    "# aritmetica(x, y)         => x / y\n",
    "def aritmetica(x, y, op=None):\n",
    "    if op == '+':\n",
    "        return x + y\n",
    "    elif op == '-':\n",
    "        return x - y\n",
    "    elif op == '*':\n",
    "        return x * y\n",
    "    else:\n",
    "        return x / y\n",
    "aritmetica(2, 2, op='+'),  aritmetica(2, 2, op='-'),  aritmetica(2, 2, op='*'),  aritmetica(2, 2, op='/'), aritmetica(2, 2,)"
   ]
  },
  {
   "cell_type": "markdown",
   "metadata": {},
   "source": [
    "### Quiz C"
   ]
  },
  {
   "cell_type": "code",
   "execution_count": 55,
   "metadata": {},
   "outputs": [],
   "source": [
    "# implementa una función recursiva que \n",
    "# compute el conjunto potencia\n",
    "def powerset(s):\n",
    "    pass\n",
    "\n",
    "powerset([0, 1, 2])"
   ]
  },
  {
   "cell_type": "markdown",
   "metadata": {},
   "source": [
    "---\n",
    "### 5 Comprensiones\n",
    "\n",
    "Definición de colecciones similar a la definición matemática de conjuntos por comprensión."
   ]
  },
  {
   "cell_type": "code",
   "execution_count": 56,
   "metadata": {},
   "outputs": [
    {
     "data": {
      "text/plain": [
       "[0, 1, 4, 9, 16, 25, 36, 49, 64, 81]"
      ]
     },
     "execution_count": 56,
     "metadata": {},
     "output_type": "execute_result"
    }
   ],
   "source": [
    "l.sort()\n",
    "# comprensión de lista sencilla\n",
    "[x**2 for x in l]"
   ]
  },
  {
   "cell_type": "code",
   "execution_count": 57,
   "metadata": {},
   "outputs": [
    {
     "data": {
      "text/plain": [
       "[0, 1, 4, 9, 16]"
      ]
     },
     "execution_count": 57,
     "metadata": {},
     "output_type": "execute_result"
    }
   ],
   "source": [
    "# comprensión de lista con condición \n",
    "[x**2 for x in l if x < 5]"
   ]
  },
  {
   "cell_type": "code",
   "execution_count": 58,
   "metadata": {},
   "outputs": [
    {
     "data": {
      "text/plain": [
       "(0, 1, 4, 9, 16)"
      ]
     },
     "execution_count": 58,
     "metadata": {},
     "output_type": "execute_result"
    }
   ],
   "source": [
    "# comprensión de tupla\n",
    "tuple(x**2 for x in t if x < 5)"
   ]
  },
  {
   "cell_type": "code",
   "execution_count": 59,
   "metadata": {},
   "outputs": [
    {
     "data": {
      "text/plain": [
       "{0: 'A',\n",
       " 1: 'B',\n",
       " 2: 'C',\n",
       " 3: 'D',\n",
       " 4: 'E',\n",
       " 5: 'F',\n",
       " 6: 'G',\n",
       " 7: 'H',\n",
       " 8: 'I',\n",
       " 9: 'J'}"
      ]
     },
     "execution_count": 59,
     "metadata": {},
     "output_type": "execute_result"
    }
   ],
   "source": [
    "# comprensión de diccionario\n",
    "{i: chr(65 + i) for i in l}"
   ]
  },
  {
   "cell_type": "markdown",
   "metadata": {},
   "source": [
    "### Quiz D"
   ]
  },
  {
   "cell_type": "code",
   "execution_count": 62,
   "metadata": {},
   "outputs": [
    {
     "data": {
      "text/plain": [
       "({0: 0, 3: 9, 6: 36, 9: 81}, {0: 0, 3: 27, 6: 216, 9: 729})"
      ]
     },
     "execution_count": 62,
     "metadata": {},
     "output_type": "execute_result"
    }
   ],
   "source": [
    "# define un diccionario por comprensión donde\n",
    "# las llaves sean los 10 primeros enteros multiplos de 3\n",
    "# y los valores el cubo de cada llave\n",
    "# ej: {0: 0, 3: 9, 6: 36, 9: 81}\n",
    "{i: i**2 for i in range(10) if i % 3 == 0}, {i: i**3 for i in range(10) if i % 3 == 0}"
   ]
  },
  {
   "cell_type": "markdown",
   "metadata": {},
   "source": [
    "### 6 Funciones integradas\n",
    "\n",
    "Python provee de un conjunto de funciones integradas (built-ins) que "
   ]
  },
  {
   "cell_type": "code",
   "execution_count": 63,
   "metadata": {},
   "outputs": [
    {
     "data": {
      "text/plain": [
       "(0, 9, 45)"
      ]
     },
     "execution_count": 63,
     "metadata": {},
     "output_type": "execute_result"
    }
   ],
   "source": [
    "min(l), max(l), sum(l)"
   ]
  },
  {
   "cell_type": "code",
   "execution_count": 64,
   "metadata": {},
   "outputs": [
    {
     "data": {
      "text/plain": [
       "[1, 9, 25, 49, 81]"
      ]
     },
     "execution_count": 64,
     "metadata": {},
     "output_type": "execute_result"
    }
   ],
   "source": [
    "# range(n) genera la secuencia de enteros [0, ... , n)\n",
    "[x ** 2 for x in range(10) if x % 2 != 0]"
   ]
  },
  {
   "cell_type": "code",
   "execution_count": 65,
   "metadata": {},
   "outputs": [
    {
     "name": "stdout",
     "output_type": "stream",
     "text": [
      "Α α\n",
      "Β β\n",
      "Γ γ\n",
      "Δ δ\n",
      "Ε ε\n"
     ]
    }
   ],
   "source": [
    "# zip() empareja colecciones\n",
    "ALPHA = ['Α', 'Β', 'Γ', 'Δ', 'Ε']\n",
    "alpha = ['α', 'β', 'γ', 'δ', 'ε']\n",
    "for c, C in zip(ALPHA, alpha):\n",
    "    print(c, C)"
   ]
  },
  {
   "cell_type": "code",
   "execution_count": 66,
   "metadata": {},
   "outputs": [
    {
     "name": "stdout",
     "output_type": "stream",
     "text": [
      "0 a\n",
      "1 p\n",
      "2 r\n",
      "3 e\n",
      "4 n\n",
      "5 d\n",
      "6 i\n",
      "7 z\n",
      "8 a\n",
      "9 j\n",
      "10 e\n",
      "11  \n",
      "12 a\n",
      "13 u\n",
      "14 t\n",
      "15 o\n",
      "16 m\n",
      "17 a\n",
      "18 t\n",
      "19 i\n",
      "20 z\n",
      "21 a\n",
      "22 d\n",
      "23 o\n"
     ]
    }
   ],
   "source": [
    "# enumerate() agrega un indice\n",
    "for i, c in enumerate(s):\n",
    "    print(i, c)"
   ]
  },
  {
   "cell_type": "markdown",
   "metadata": {},
   "source": [
    "---\n",
    "### 7 Formateo de cadenas"
   ]
  },
  {
   "cell_type": "code",
   "execution_count": 67,
   "metadata": {},
   "outputs": [
    {
     "data": {
      "text/plain": [
       "'Mah cualli xihualacan'"
      ]
     },
     "execution_count": 67,
     "metadata": {},
     "output_type": "execute_result"
    }
   ],
   "source": [
    "# str.format()\n",
    "\"Mah {} {}\".format(\"cualli\", 'xihualacan')"
   ]
  },
  {
   "cell_type": "code",
   "execution_count": 68,
   "metadata": {},
   "outputs": [
    {
     "data": {
      "text/plain": [
       "'Mah cualli xihualacan'"
      ]
     },
     "execution_count": 68,
     "metadata": {},
     "output_type": "execute_result"
    }
   ],
   "source": [
    "s1 = \"cualli\"\n",
    "s2 = \"xihualacan\"\n",
    "# f-strings\n",
    "f\"Mah {s1} {s2}\""
   ]
  },
  {
   "cell_type": "markdown",
   "metadata": {},
   "source": [
    "### Quiz E\n",
    "\n",
    "La [Suma de Riemann](https://es.wikipedia.org/wiki/Suma_de_Riemann) nos permite calcular una aproximación de una integral. Dada una función $f(x)$ y una partición\n",
    "\n",
    "$$x_0 = a < x_1 < \\cdots < x_{N-1} < x_N = b$$\n",
    "\n",
    "la Suma de Riemann queda definida de la siguiente forma\n",
    "\n",
    "$$\\sum_{i=1}^N f(x_i^ * ) (x_i - x_{i-1}) \\ \\ , \\ x_i^* \\in [x_{i-1},x_i]$$\n",
    "\n",
    "Implementa la función `suma_riemann` que toma como parámetros la función $f$, el intervalo $[a, b]$, y el número de puntos $n$. "
   ]
  },
  {
   "cell_type": "code",
   "execution_count": 76,
   "metadata": {},
   "outputs": [
    {
     "data": {
      "text/plain": [
       "9.000135001800022"
      ]
     },
     "execution_count": 76,
     "metadata": {},
     "output_type": "execute_result"
    }
   ],
   "source": [
    "import numpy as np\n",
    "def suma_riemann(f, a, b, n):\n",
    "    sums = 0\n",
    "    d = np.linspace(a, b, n)\n",
    "    for i in range(n):\n",
    "        sums += f(d[i])*(d[i]-d[i-1])\n",
    "    return sums#0\n",
    "\n",
    "# x^3 / 3\n",
    "suma_riemann(cuadrado, 0, 3, 100000)"
   ]
  },
  {
   "cell_type": "markdown",
   "metadata": {},
   "source": [
    "## Recomendación\n",
    "\n",
    "[Scipy Lecture Notes](http://scipy-lectures.org/)\n",
    "\n",
    "![ml](https://imgs.xkcd.com/comics/machine_learning.png)\n",
    "<div style=\"text-align: center\"> https://xkcd.com/1838/ </div>"
   ]
  },
  {
   "cell_type": "code",
   "execution_count": 1,
   "metadata": {},
   "outputs": [],
   "source": [
    "import numpy as np\n",
    "import cupy as cp"
   ]
  },
  {
   "cell_type": "code",
   "execution_count": 2,
   "metadata": {},
   "outputs": [],
   "source": [
    "a = np.random.randint(1,100,size=(100,100))\n",
    "b = np.random.randint(1,100,size=(100,100))\n",
    "ca = cp.random.randint(1,100,size=(100,100))\n",
    "cb = cp.random.randint(1,100,size=(100,100))"
   ]
  },
  {
   "cell_type": "code",
   "execution_count": 3,
   "metadata": {},
   "outputs": [],
   "source": [
    "def matops(x, y):\n",
    "    out = np.dot(x,y)/2 + x**2 / (y**10+0.0001)\n",
    "    return out\n",
    "def matopscp(x, y):\n",
    "    out = cp.dot(x,y)/2 + x**2 / (y**10+0.0001)\n",
    "    return out"
   ]
  },
  {
   "cell_type": "code",
   "execution_count": 4,
   "metadata": {},
   "outputs": [
    {
     "name": "stdout",
     "output_type": "stream",
     "text": [
      "Wall time: 5.98 ms\n",
      "Wall time: 1.02 ms\n"
     ]
    },
    {
     "data": {
      "text/plain": [
       "array([[  132510.5000046 ,   132407.99999142,   135994.00001887, ...,\n",
       "          135368.49999831,   124893.55122864,   126763.00000018],\n",
       "       [  131526.00001701,   121924.50000046,   134428.99995338, ...,\n",
       "          172722.        ,   128516.00000428,   123952.99640036],\n",
       "       [  126317.00000008,   117020.00000174,   133074.50000176, ...,\n",
       "          127008.50000072,   128670.50000239,   113614.50000345],\n",
       "       ...,\n",
       "       [  121569.99999956,   116657.9999999 ,   120285.00000013, ...,\n",
       "          124753.99999802,   118429.99999907,   100681.00000033],\n",
       "       [  135649.99998322,   124117.50015561,   132580.49998451, ...,\n",
       "          133850.49999707,   122744.00000134,   117570.50000295],\n",
       "       [62530565.        ,   107629.50428104,   120993.00000574, ...,\n",
       "          118507.9999992 ,   101401.50000318,   111582.50000738]])"
      ]
     },
     "execution_count": 4,
     "metadata": {},
     "output_type": "execute_result"
    }
   ],
   "source": [
    "%time matops(a,b)\n",
    "%time matopscp(a,b)"
   ]
  },
  {
   "cell_type": "code",
   "execution_count": null,
   "metadata": {},
   "outputs": [],
   "source": []
  }
 ],
 "metadata": {
  "kernelspec": {
   "display_name": "Python 3",
   "language": "python",
   "name": "python3"
  },
  "language_info": {
   "codemirror_mode": {
    "name": "ipython",
    "version": 3
   },
   "file_extension": ".py",
   "mimetype": "text/x-python",
   "name": "python",
   "nbconvert_exporter": "python",
   "pygments_lexer": "ipython3",
   "version": "3.6.12"
  }
 },
 "nbformat": 4,
 "nbformat_minor": 4
}
