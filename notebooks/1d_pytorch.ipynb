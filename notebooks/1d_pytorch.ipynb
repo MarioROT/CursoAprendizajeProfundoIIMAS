{
 "cells": [
  {
   "cell_type": "markdown",
   "metadata": {
    "id": "3-YY0Cv2aro2"
   },
   "source": [
    "# Introducción a PyTorch\n",
    "\n",
    "<div style=\"text-align: right\"> Bere et Richardt </div>\n",
    "\n",
    "---\n",
    "\n",
    "[PyTorch](https://pytorch.org/) es una biblioteca de software de código abierto para la implementación eficiente, rápida y sencilla de redes neuronales profundas. "
   ]
  },
  {
   "cell_type": "code",
   "execution_count": 1,
   "metadata": {
    "id": "H08blbngaro4"
   },
   "outputs": [],
   "source": [
    "import torch"
   ]
  },
  {
   "cell_type": "markdown",
   "metadata": {
    "id": "MWIp7jYOarpB"
   },
   "source": [
    "---\n",
    "## 1 Tensores\n",
    "\n",
    "Un tensor de PyTorch es una arreglo multidimensional, la idea es similar a una arreglo de numpy pero con la diferencia de que se alojan en GPU y pueden rastrean las operaciones que los generaron. Se representan con la clase `torch.Tensor` y y pueden ser booleanos, enteros o flotantes.\n",
    "\n",
    "![variable-naming](https://miro.medium.com/max/1000/1*8jdzMrA33Leu3j3F6A8a3w.png)\n",
    "<div style=\"text-align: center\"> http://www.commitstrip.com/en/2015/10/27/one-of-the-coders-hardest-problems </div>\n",
    "\n",
    "<!-- Los tensores , para crear un tensor a partir de una lista de números se emplea la función `torch.tensor`. -->"
   ]
  },
  {
   "cell_type": "markdown",
   "metadata": {
    "id": "GMsE_CMHarpC"
   },
   "source": [
    "### 1.1 A partir de datos"
   ]
  },
  {
   "cell_type": "code",
   "execution_count": 2,
   "metadata": {
    "id": "YASmd2kQarpE",
    "outputId": "d2fbc501-6c2d-44d8-86f7-df2ca3a6e810"
   },
   "outputs": [
    {
     "name": "stdout",
     "output_type": "stream",
     "text": [
      "torch.Size([]) torch.bool\n",
      "tensor(True)\n"
     ]
    }
   ],
   "source": [
    "# tensor 0 dimensional = escalar \n",
    "s = torch.tensor(True)\n",
    "print(s.shape, s.dtype)\n",
    "print(s)"
   ]
  },
  {
   "cell_type": "code",
   "execution_count": 3,
   "metadata": {
    "id": "neyXxv1farpM",
    "outputId": "99ea4a36-ee87-4c9b-a6e3-0565a1a97c5f"
   },
   "outputs": [
    {
     "name": "stdout",
     "output_type": "stream",
     "text": [
      "torch.Size([2]) torch.int64\n",
      "tensor([1, 2])\n"
     ]
    }
   ],
   "source": [
    "# tensor 1 dimensional = vector \n",
    "v = torch.tensor([1, 2])\n",
    "print(v.shape, v.dtype)\n",
    "print(v)"
   ]
  },
  {
   "cell_type": "code",
   "execution_count": 4,
   "metadata": {
    "id": "UyDK3X7EarpT",
    "outputId": "e8ad042e-6de5-4d54-ece2-425b996a2790"
   },
   "outputs": [
    {
     "name": "stdout",
     "output_type": "stream",
     "text": [
      "torch.Size([2, 2]) torch.float32\n",
      "tensor([[1., 2.],\n",
      "        [3., 4.]])\n"
     ]
    }
   ],
   "source": [
    "# tensor 2 dimensional = matriz \n",
    "m = torch.tensor([[1.0, 2.0], [3.0, 4.0]])\n",
    "print(m.shape, m.dtype)\n",
    "print(m)"
   ]
  },
  {
   "cell_type": "markdown",
   "metadata": {
    "id": "SVNS6leDarpZ"
   },
   "source": [
    "### 1.2 Como secuencias"
   ]
  },
  {
   "cell_type": "code",
   "execution_count": 5,
   "metadata": {
    "id": "WrcK3bN_arpc",
    "outputId": "dd1ecf82-0330-4b5d-9a13-b42ef3f806a5"
   },
   "outputs": [
    {
     "data": {
      "text/plain": [
       "tensor([0., 1., 2., 3., 4., 5., 6., 7.], dtype=torch.float64)"
      ]
     },
     "execution_count": 5,
     "metadata": {},
     "output_type": "execute_result"
    }
   ],
   "source": [
    "# similar a range de python\n",
    "torch.arange(8, dtype=torch.float64)"
   ]
  },
  {
   "cell_type": "code",
   "execution_count": 6,
   "metadata": {
    "id": "8HXtAS3Aarpj",
    "outputId": "75a9f686-5929-4562-fa95-6d01984f53db"
   },
   "outputs": [
    {
     "data": {
      "text/plain": [
       "tensor([0., 0., 0., 0., 0., 0., 0., 0.])"
      ]
     },
     "execution_count": 6,
     "metadata": {},
     "output_type": "execute_result"
    }
   ],
   "source": [
    "# vector de 0s\n",
    "torch.zeros(8)"
   ]
  },
  {
   "cell_type": "code",
   "execution_count": 7,
   "metadata": {
    "id": "rrPs-7UEarpq",
    "outputId": "f42bef93-3a07-4394-d189-f71e8159c1de"
   },
   "outputs": [
    {
     "data": {
      "text/plain": [
       "tensor([[1., 1., 1., 1.],\n",
       "        [1., 1., 1., 1.]])"
      ]
     },
     "execution_count": 7,
     "metadata": {},
     "output_type": "execute_result"
    }
   ],
   "source": [
    "# matriz de 1s\n",
    "torch.ones([2, 4])"
   ]
  },
  {
   "cell_type": "markdown",
   "metadata": {
    "id": "k4ELZgr0arpw"
   },
   "source": [
    "### 1.3 A partir de otros tensores"
   ]
  },
  {
   "cell_type": "code",
   "execution_count": 8,
   "metadata": {
    "id": "5YcqhTzParpx",
    "outputId": "1a83284f-dcc8-4506-c173-fe8d4deee186"
   },
   "outputs": [
    {
     "data": {
      "text/plain": [
       "tensor([0, 0])"
      ]
     },
     "execution_count": 8,
     "metadata": {},
     "output_type": "execute_result"
    }
   ],
   "source": [
    "# tensor de 1s con la misma forma que v\n",
    "torch.zeros_like(v)"
   ]
  },
  {
   "cell_type": "code",
   "execution_count": 9,
   "metadata": {
    "id": "udgbAq3varp4",
    "outputId": "a836bdd6-1361-41de-808f-57e8df1cf2db"
   },
   "outputs": [
    {
     "data": {
      "text/plain": [
       "tensor([[1., 1.],\n",
       "        [1., 1.]])"
      ]
     },
     "execution_count": 9,
     "metadata": {},
     "output_type": "execute_result"
    }
   ],
   "source": [
    "# tensor de 0s con la misma forma que v\n",
    "torch.ones_like(m)"
   ]
  },
  {
   "cell_type": "markdown",
   "metadata": {
    "id": "fa8NRhLnarp-"
   },
   "source": [
    "### 1.4 Muestreando distribuciones"
   ]
  },
  {
   "cell_type": "code",
   "execution_count": 10,
   "metadata": {
    "id": "N9MFKvsLarp_",
    "outputId": "62c8bccc-d16c-4403-c114-39baede970f2"
   },
   "outputs": [
    {
     "data": {
      "text/plain": [
       "tensor([0.2933, 0.8380, 0.3856, 0.7999, 0.7118])"
      ]
     },
     "execution_count": 10,
     "metadata": {},
     "output_type": "execute_result"
    }
   ],
   "source": [
    "# matriz con distribución uniforme en [0,1)\n",
    "torch.rand(5)"
   ]
  },
  {
   "cell_type": "code",
   "execution_count": 11,
   "metadata": {
    "id": "D4modbsCarqF",
    "outputId": "a20da11e-5c0b-42b0-c9de-3780eb76219e"
   },
   "outputs": [
    {
     "data": {
      "text/plain": [
       "tensor([[-1.3116, -1.1559, -0.3030],\n",
       "        [-0.4247,  1.8063,  0.3290]])"
      ]
     },
     "execution_count": 11,
     "metadata": {},
     "output_type": "execute_result"
    }
   ],
   "source": [
    "# vector con distibución normal unitaria\n",
    "torch.normal(0, 1, size=(2, 3))"
   ]
  },
  {
   "cell_type": "markdown",
   "metadata": {
    "id": "AKeEgUg4arqN"
   },
   "source": [
    "#### 1.5 De numpy y de vuelta"
   ]
  },
  {
   "cell_type": "code",
   "execution_count": 12,
   "metadata": {
    "id": "f9m5Y7bvarqO",
    "outputId": "0b1e2524-0b5a-47f5-8a3e-5fdce4e56283"
   },
   "outputs": [
    {
     "data": {
      "text/plain": [
       "(torch.Tensor, numpy.ndarray)"
      ]
     },
     "execution_count": 12,
     "metadata": {},
     "output_type": "execute_result"
    }
   ],
   "source": [
    "import numpy as np\n",
    "\n",
    "a = np.random.randn(2, 2)\n",
    "t = torch.from_numpy(a)\n",
    "n = t.numpy()\n",
    "type(t), type(n)"
   ]
  },
  {
   "cell_type": "markdown",
   "metadata": {
    "id": "OoeEYpuEarqU"
   },
   "source": [
    "---\n",
    "## 2 Formas y vistas"
   ]
  },
  {
   "cell_type": "code",
   "execution_count": 13,
   "metadata": {
    "id": "QaVZDXj5arqV",
    "outputId": "c2d3f9ee-3e1d-4b36-fdcc-fc39d8ca2292"
   },
   "outputs": [
    {
     "name": "stdout",
     "output_type": "stream",
     "text": [
      "torch.Size([12])\n",
      "tensor([ 0,  1,  2,  3,  4,  5,  6,  7,  8,  9, 10, 11])\n"
     ]
    }
   ],
   "source": [
    "x = torch.arange(12)\n",
    "print(x.shape)\n",
    "print(x)"
   ]
  },
  {
   "cell_type": "code",
   "execution_count": 14,
   "metadata": {
    "id": "gaWtCx6sarqb",
    "outputId": "288acc1d-794d-4bf4-ad2b-91f121d89ec3"
   },
   "outputs": [
    {
     "name": "stdout",
     "output_type": "stream",
     "text": [
      "torch.Size([2, 6])\n",
      "tensor([[ 0,  1,  2,  3,  4,  5],\n",
      "        [ 6,  7,  8,  9, 10, 11]])\n"
     ]
    }
   ],
   "source": [
    "v1 = x.view(2, 6)\n",
    "print(v1.shape)\n",
    "print(v1)"
   ]
  },
  {
   "cell_type": "code",
   "execution_count": 15,
   "metadata": {
    "id": "FuEaNgJVarqk",
    "outputId": "51848399-0818-4b4a-a5fd-0d56209d72ad"
   },
   "outputs": [
    {
     "name": "stdout",
     "output_type": "stream",
     "text": [
      "torch.Size([3, 4])\n",
      "tensor([[ 0,  1,  2,  3],\n",
      "        [ 4,  5,  6,  7],\n",
      "        [ 8,  9, 10, 11]])\n"
     ]
    }
   ],
   "source": [
    "v2 = x.view(3, 4)\n",
    "print(v2.shape)\n",
    "print(v2)"
   ]
  },
  {
   "cell_type": "code",
   "execution_count": 16,
   "metadata": {
    "id": "-jblY3wSarqr",
    "outputId": "bf77b7cb-e964-471e-9627-b41becbb4f5d"
   },
   "outputs": [
    {
     "name": "stdout",
     "output_type": "stream",
     "text": [
      "torch.Size([4, 3])\n",
      "tensor([[ 0,  1,  2],\n",
      "        [ 3,  4,  5],\n",
      "        [ 6,  7,  8],\n",
      "        [ 9, 10, 11]])\n"
     ]
    }
   ],
   "source": [
    "v3 = x.view(4, -1)\n",
    "print(v3.shape)\n",
    "print(v3)"
   ]
  },
  {
   "cell_type": "code",
   "execution_count": 17,
   "metadata": {
    "id": "HZCr8oIIarqw",
    "outputId": "95398ba2-749a-4e35-a5b8-98c6c8febb70"
   },
   "outputs": [
    {
     "name": "stdout",
     "output_type": "stream",
     "text": [
      "torch.Size([1, 12])\n",
      "tensor([[ 0,  1,  2,  3,  4,  5,  6,  7,  8,  9, 10, 11]])\n"
     ]
    }
   ],
   "source": [
    "# agregar dimensión\n",
    "v4 = x.unsqueeze(0)\n",
    "print(v4.shape)\n",
    "print(v4)"
   ]
  },
  {
   "cell_type": "code",
   "execution_count": 18,
   "metadata": {
    "id": "e2h4xbqHarq5",
    "outputId": "7049296b-3ae2-4bf4-97f5-de8f3569e260"
   },
   "outputs": [
    {
     "name": "stdout",
     "output_type": "stream",
     "text": [
      "torch.Size([12])\n",
      "tensor([ 0,  1,  2,  3,  4,  5,  6,  7,  8,  9, 10, 11])\n"
     ]
    }
   ],
   "source": [
    "# eliminar dimensión\n",
    "v5 = v4.squeeze()\n",
    "print(v5.shape)\n",
    "print(v5)"
   ]
  },
  {
   "cell_type": "markdown",
   "metadata": {
    "id": "CRGI3CeLarq-"
   },
   "source": [
    "---\n",
    "## 3 Lectura y escritura"
   ]
  },
  {
   "cell_type": "code",
   "execution_count": 19,
   "metadata": {
    "id": "CRVV81znarq_",
    "outputId": "73e1c391-163b-4918-fb79-63a675d7bd49"
   },
   "outputs": [
    {
     "data": {
      "text/plain": [
       "tensor([[ 0,  1,  2,  3,  4],\n",
       "        [ 5,  6,  7,  8,  9],\n",
       "        [10, 11, 12, 13, 14],\n",
       "        [15, 16, 17, 18, 19]])"
      ]
     },
     "execution_count": 19,
     "metadata": {},
     "output_type": "execute_result"
    }
   ],
   "source": [
    "x = torch.arange(20).reshape(4, 5)\n",
    "x"
   ]
  },
  {
   "cell_type": "code",
   "execution_count": 20,
   "metadata": {
    "id": "z1CMB_SUarrD",
    "outputId": "72ab4801-7946-4ab3-a297-b046cbfba9b4"
   },
   "outputs": [
    {
     "data": {
      "text/plain": [
       "(tensor(0), tensor(19))"
      ]
     },
     "execution_count": 20,
     "metadata": {},
     "output_type": "execute_result"
    }
   ],
   "source": [
    "# acceder a un elemento\n",
    "x[0, 0], x[-1, -1]"
   ]
  },
  {
   "cell_type": "code",
   "execution_count": 21,
   "metadata": {
    "id": "WL2gJEp6arrJ",
    "outputId": "2cbabc0b-7c6a-4573-886f-e8d690b9a76f"
   },
   "outputs": [
    {
     "data": {
      "text/plain": [
       "(tensor([0, 1, 2, 3, 4]), tensor([15, 16, 17, 18, 19]))"
      ]
     },
     "execution_count": 21,
     "metadata": {},
     "output_type": "execute_result"
    }
   ],
   "source": [
    "# acceder una fila\n",
    "x[0], x[-1]"
   ]
  },
  {
   "cell_type": "code",
   "execution_count": 22,
   "metadata": {
    "id": "J45HjILVarrO",
    "outputId": "c3de3090-6534-4217-a992-2db37f57a857"
   },
   "outputs": [
    {
     "data": {
      "text/plain": [
       "(tensor([ 0,  5, 10, 15]), tensor([ 4,  9, 14, 19]))"
      ]
     },
     "execution_count": 22,
     "metadata": {},
     "output_type": "execute_result"
    }
   ],
   "source": [
    "# acceder una columna\n",
    "x[:, 0], x[:, -1]"
   ]
  },
  {
   "cell_type": "code",
   "execution_count": 23,
   "metadata": {
    "id": "ovC2HN9warrZ",
    "outputId": "f7d10717-d9cc-43ae-a98b-c76df35e9fa2"
   },
   "outputs": [
    {
     "data": {
      "text/plain": [
       "tensor([[ 5,  6,  7,  8,  9],\n",
       "        [10, 11, 12, 13, 14]])"
      ]
     },
     "execution_count": 23,
     "metadata": {},
     "output_type": "execute_result"
    }
   ],
   "source": [
    "# rebanada de columnas\n",
    "x[1:3]"
   ]
  },
  {
   "cell_type": "code",
   "execution_count": 24,
   "metadata": {
    "id": "l5IhCtD8arrm",
    "outputId": "adbe55f3-efb4-48f6-bd7b-e41aa32fecd4"
   },
   "outputs": [
    {
     "data": {
      "text/plain": [
       "tensor([[ 1,  2,  3],\n",
       "        [ 6,  7,  8],\n",
       "        [11, 12, 13],\n",
       "        [16, 17, 18]])"
      ]
     },
     "execution_count": 24,
     "metadata": {},
     "output_type": "execute_result"
    }
   ],
   "source": [
    "# rebanada de filas\n",
    "x[:, 1:-1]"
   ]
  },
  {
   "cell_type": "code",
   "execution_count": 25,
   "metadata": {
    "id": "wmELLPCDarr1",
    "outputId": "c1be1e33-3f22-497b-c7c3-7b1f3f23183b"
   },
   "outputs": [
    {
     "data": {
      "text/plain": [
       "tensor([[ 6,  7,  8],\n",
       "        [11, 12, 13]])"
      ]
     },
     "execution_count": 25,
     "metadata": {},
     "output_type": "execute_result"
    }
   ],
   "source": [
    "# rebanada de filas y columnas\n",
    "x[1:3, 1:-1]"
   ]
  },
  {
   "cell_type": "markdown",
   "metadata": {
    "id": "dovQSM8DarsA"
   },
   "source": [
    "---\n",
    "## 4 Funciones\n",
    "\n",
    "### 4.1 Operaciones aritméticas"
   ]
  },
  {
   "cell_type": "code",
   "execution_count": 26,
   "metadata": {
    "id": "o073OReRarsB",
    "outputId": "a6679788-fc76-4710-dbbd-75715efb3b03"
   },
   "outputs": [
    {
     "name": "stdout",
     "output_type": "stream",
     "text": [
      "Suma: tensor([ 3.,  4.,  6., 10.])\n",
      "Resta: tensor([-1.,  0.,  2.,  6.])\n",
      "División: tensor([0.5000, 1.0000, 2.0000, 4.0000])\n",
      "Multiplicación: tensor([ 2.,  4.,  8., 16.])\n",
      "Potencia: tensor([ 1.,  4., 16., 64.])\n"
     ]
    }
   ],
   "source": [
    "x = torch.tensor([1.0, 2, 4, 8])\n",
    "y = torch.tensor([2, 2, 2, 2])\n",
    "\n",
    "print(\"Suma:\", x + y)\n",
    "print(\"Resta:\", x - y)\n",
    "print(\"División:\", x / y)\n",
    "print(\"Multiplicación:\", x * y)\n",
    "print(\"Potencia:\", x ** y)"
   ]
  },
  {
   "cell_type": "markdown",
   "metadata": {
    "id": "946kMjCdarsJ"
   },
   "source": [
    "### 4.2 Álgebra lineal"
   ]
  },
  {
   "cell_type": "code",
   "execution_count": 27,
   "metadata": {
    "id": "qq5Bf4LYarsK",
    "outputId": "339b609a-61c2-4301-9c8c-d7e9e631b724"
   },
   "outputs": [
    {
     "name": "stdout",
     "output_type": "stream",
     "text": [
      "tensor([0., 1., 2., 3.])\n",
      "tensor([1., 1., 1., 1.])\n",
      "tensor([[ 0.,  1.,  2.,  3.],\n",
      "        [ 4.,  5.,  6.,  7.],\n",
      "        [ 8.,  9., 10., 11.]])\n"
     ]
    }
   ],
   "source": [
    "u = torch.arange(4, dtype=torch.float32)\n",
    "v = torch.ones(4, dtype=torch.float32)\n",
    "w = torch.arange(12, dtype=torch.float32).view([3, 4])\n",
    "print(u)\n",
    "print(v)\n",
    "print(w)"
   ]
  },
  {
   "cell_type": "code",
   "execution_count": 28,
   "metadata": {
    "id": "lepgtcN2arsS",
    "outputId": "c9a2ddf5-b339-49e2-c89c-41ca791f275d"
   },
   "outputs": [
    {
     "data": {
      "text/plain": [
       "tensor([ 0., 10., 20., 30.])"
      ]
     },
     "execution_count": 28,
     "metadata": {},
     "output_type": "execute_result"
    }
   ],
   "source": [
    "# producto escalar\n",
    "10 * u "
   ]
  },
  {
   "cell_type": "code",
   "execution_count": 29,
   "metadata": {
    "id": "RRGLZRCiarsb",
    "outputId": "84cf5f98-165b-4bd5-b220-94a2cda2b2d5"
   },
   "outputs": [
    {
     "data": {
      "text/plain": [
       "tensor(6.)"
      ]
     },
     "execution_count": 29,
     "metadata": {},
     "output_type": "execute_result"
    }
   ],
   "source": [
    "# producto punto\n",
    "torch.dot(u, v)"
   ]
  },
  {
   "cell_type": "code",
   "execution_count": 30,
   "metadata": {
    "id": "qqGMmfCMarsl",
    "outputId": "940257f3-61e0-4043-da62-babc8a60721e"
   },
   "outputs": [
    {
     "data": {
      "text/plain": [
       "tensor([14., 38., 62.])"
      ]
     },
     "execution_count": 30,
     "metadata": {},
     "output_type": "execute_result"
    }
   ],
   "source": [
    "# producto de matrices\n",
    "# w @ u\n",
    "torch.matmul(w, u)"
   ]
  },
  {
   "cell_type": "code",
   "execution_count": 31,
   "metadata": {
    "id": "5EaSNdRIarsx",
    "outputId": "8b9b9d9c-0d8f-48cc-83b5-6b9901f026e5"
   },
   "outputs": [
    {
     "data": {
      "text/plain": [
       "tensor([14., 38., 62.])"
      ]
     },
     "execution_count": 31,
     "metadata": {},
     "output_type": "execute_result"
    }
   ],
   "source": [
    "# suma de Einstein\n",
    "torch.einsum('ij,j->i', w, u)"
   ]
  },
  {
   "cell_type": "code",
   "execution_count": 32,
   "metadata": {
    "id": "oW0rxabyars-",
    "outputId": "d44691f1-842f-4677-8f89-fd08b1f10d08"
   },
   "outputs": [
    {
     "data": {
      "text/plain": [
       "tensor([[ 0.,  4.,  8.],\n",
       "        [ 1.,  5.,  9.],\n",
       "        [ 2.,  6., 10.],\n",
       "        [ 3.,  7., 11.]])"
      ]
     },
     "execution_count": 32,
     "metadata": {},
     "output_type": "execute_result"
    }
   ],
   "source": [
    "# transpuesta\n",
    "w.T"
   ]
  },
  {
   "cell_type": "markdown",
   "metadata": {
    "id": "oO91E6w9artE"
   },
   "source": [
    "### 4.3 Concatenación y apilado"
   ]
  },
  {
   "cell_type": "code",
   "execution_count": 33,
   "metadata": {
    "id": "FxGlTdUKartE"
   },
   "outputs": [],
   "source": [
    "u = torch.arange(12).reshape(3, 4)\n",
    "v = torch.arange(12, 24).reshape(3, 4)"
   ]
  },
  {
   "cell_type": "code",
   "execution_count": 35,
   "metadata": {
    "id": "0re5oHATartK",
    "outputId": "60c02edd-899b-4fe2-e5b7-d5a02b926ad0"
   },
   "outputs": [
    {
     "data": {
      "text/plain": [
       "tensor([[ 0,  1,  2,  3],\n",
       "        [ 4,  5,  6,  7],\n",
       "        [ 8,  9, 10, 11],\n",
       "        [12, 13, 14, 15],\n",
       "        [16, 17, 18, 19],\n",
       "        [20, 21, 22, 23]])"
      ]
     },
     "execution_count": 35,
     "metadata": {},
     "output_type": "execute_result"
    }
   ],
   "source": [
    "# concatenación en filas\n",
    "torch.cat((u, v), dim=0)"
   ]
  },
  {
   "cell_type": "code",
   "execution_count": 36,
   "metadata": {
    "id": "PLfgceaMartR",
    "outputId": "f9a2fe0f-1b1c-494f-be4e-d02d4da6d267"
   },
   "outputs": [
    {
     "data": {
      "text/plain": [
       "tensor([[ 0,  1,  2,  3, 12, 13, 14, 15],\n",
       "        [ 4,  5,  6,  7, 16, 17, 18, 19],\n",
       "        [ 8,  9, 10, 11, 20, 21, 22, 23]])"
      ]
     },
     "execution_count": 36,
     "metadata": {},
     "output_type": "execute_result"
    }
   ],
   "source": [
    "# concatenación en columnas\n",
    "torch.cat((u, v), dim=1)"
   ]
  },
  {
   "cell_type": "code",
   "execution_count": 37,
   "metadata": {
    "id": "aM6uSTKiartW",
    "outputId": "4c76a733-7fde-493e-92d5-a630007d590d"
   },
   "outputs": [
    {
     "data": {
      "text/plain": [
       "tensor([[[ 0,  1,  2,  3],\n",
       "         [ 4,  5,  6,  7],\n",
       "         [ 8,  9, 10, 11]],\n",
       "\n",
       "        [[12, 13, 14, 15],\n",
       "         [16, 17, 18, 19],\n",
       "         [20, 21, 22, 23]]])"
      ]
     },
     "execution_count": 37,
     "metadata": {},
     "output_type": "execute_result"
    }
   ],
   "source": [
    "torch.stack([u, v], dim=0)"
   ]
  },
  {
   "cell_type": "code",
   "execution_count": 38,
   "metadata": {
    "id": "4JswRS7sartd",
    "outputId": "fea9994b-6675-420d-aa1a-196e0a77185f"
   },
   "outputs": [
    {
     "data": {
      "text/plain": [
       "tensor([[[ 0,  1,  2,  3],\n",
       "         [12, 13, 14, 15]],\n",
       "\n",
       "        [[ 4,  5,  6,  7],\n",
       "         [16, 17, 18, 19]],\n",
       "\n",
       "        [[ 8,  9, 10, 11],\n",
       "         [20, 21, 22, 23]]])"
      ]
     },
     "execution_count": 38,
     "metadata": {},
     "output_type": "execute_result"
    }
   ],
   "source": [
    "torch.stack([u, v], dim=1)"
   ]
  },
  {
   "cell_type": "markdown",
   "metadata": {
    "id": "ts9jOA-Warti"
   },
   "source": [
    "### 4.4 Reducción"
   ]
  },
  {
   "cell_type": "code",
   "execution_count": 39,
   "metadata": {
    "id": "IbJNwdGcartj",
    "outputId": "30b4c8aa-62f8-4ab4-eb18-187211d3318d"
   },
   "outputs": [
    {
     "data": {
      "text/plain": [
       "tensor([[ 0.,  1.,  2.,  3.],\n",
       "        [ 4.,  5.,  6.,  7.],\n",
       "        [ 8.,  9., 10., 11.]])"
      ]
     },
     "execution_count": 39,
     "metadata": {},
     "output_type": "execute_result"
    }
   ],
   "source": [
    "x = torch.arange(12, dtype=torch.float32).reshape(3, 4)\n",
    "x"
   ]
  },
  {
   "cell_type": "code",
   "execution_count": 40,
   "metadata": {
    "id": "u66Tm9dZartr",
    "outputId": "2f6e1fb6-a040-4d85-cce3-f4cf3f670827"
   },
   "outputs": [
    {
     "data": {
      "text/plain": [
       "tensor(66.)"
      ]
     },
     "execution_count": 40,
     "metadata": {},
     "output_type": "execute_result"
    }
   ],
   "source": [
    "x.sum()"
   ]
  },
  {
   "cell_type": "code",
   "execution_count": 41,
   "metadata": {
    "id": "YNYhIUKBart1",
    "outputId": "4c8c7bfc-21b1-410a-bdbe-fd61a196fec8"
   },
   "outputs": [
    {
     "data": {
      "text/plain": [
       "tensor([12., 15., 18., 21.])"
      ]
     },
     "execution_count": 41,
     "metadata": {},
     "output_type": "execute_result"
    }
   ],
   "source": [
    "# reducir filas\n",
    "x.sum(dim=0)"
   ]
  },
  {
   "cell_type": "code",
   "execution_count": 42,
   "metadata": {
    "id": "i1DvAYl_art9",
    "outputId": "cef11d48-a672-4966-f47f-70ad196f8534"
   },
   "outputs": [
    {
     "data": {
      "text/plain": [
       "tensor([ 6., 22., 38.])"
      ]
     },
     "execution_count": 42,
     "metadata": {},
     "output_type": "execute_result"
    }
   ],
   "source": [
    "# reducir columnas\n",
    "x.sum(dim=1)"
   ]
  },
  {
   "cell_type": "code",
   "execution_count": 43,
   "metadata": {
    "id": "EGDfC4TRaruE",
    "outputId": "2c5ebf0d-cbe9-4856-fa55-565998e4a368"
   },
   "outputs": [
    {
     "data": {
      "text/plain": [
       "(tensor(5.5000), tensor([4., 5., 6., 7.]), tensor([1.5000, 5.5000, 9.5000]))"
      ]
     },
     "execution_count": 43,
     "metadata": {},
     "output_type": "execute_result"
    }
   ],
   "source": [
    "x.mean(), x.mean(dim=0),  x.mean(dim=1)"
   ]
  },
  {
   "cell_type": "code",
   "execution_count": 44,
   "metadata": {
    "id": "TUxxKSPGaruJ",
    "outputId": "c3d7ff2b-0158-401e-adb9-3f577596ea46"
   },
   "outputs": [
    {
     "data": {
      "text/plain": [
       "tensor(11.)"
      ]
     },
     "execution_count": 44,
     "metadata": {},
     "output_type": "execute_result"
    }
   ],
   "source": [
    "# máximo del tensor\n",
    "x.max()"
   ]
  },
  {
   "cell_type": "code",
   "execution_count": 45,
   "metadata": {
    "id": "ZzmRn69xaruT",
    "outputId": "dee94051-1059-4481-e94b-71b7cfa51ed3"
   },
   "outputs": [
    {
     "data": {
      "text/plain": [
       "torch.return_types.max(\n",
       "values=tensor([ 8.,  9., 10., 11.]),\n",
       "indices=tensor([2, 2, 2, 2]))"
      ]
     },
     "execution_count": 45,
     "metadata": {},
     "output_type": "execute_result"
    }
   ],
   "source": [
    "# máximo de filas\n",
    "x.max(dim=0)"
   ]
  },
  {
   "cell_type": "code",
   "execution_count": 46,
   "metadata": {
    "id": "7606OPDxarua",
    "outputId": "3ecd0d45-006e-4ab3-fe43-e189459ec055"
   },
   "outputs": [
    {
     "data": {
      "text/plain": [
       "torch.return_types.max(\n",
       "values=tensor([ 3.,  7., 11.]),\n",
       "indices=tensor([3, 3, 3]))"
      ]
     },
     "execution_count": 46,
     "metadata": {},
     "output_type": "execute_result"
    }
   ],
   "source": [
    "# máximo de columnas\n",
    "x.max(dim=1)"
   ]
  },
  {
   "cell_type": "markdown",
   "metadata": {
    "id": "reWW355Aaruh"
   },
   "source": [
    "### 4.5 Difusión"
   ]
  },
  {
   "cell_type": "markdown",
   "metadata": {
    "id": "feJrTZsGarui"
   },
   "source": [
    "La difusión es un mecanismo que se utiliza para realizar operaciones entre tensores cuando poseen formas diferentes."
   ]
  },
  {
   "cell_type": "code",
   "execution_count": 47,
   "metadata": {
    "id": "yUysRKuWarui",
    "outputId": "694b3b6e-36e6-4f91-c916-4e4c9d66a6c8"
   },
   "outputs": [
    {
     "data": {
      "text/plain": [
       "tensor([[0],\n",
       "        [1],\n",
       "        [2]])"
      ]
     },
     "execution_count": 47,
     "metadata": {},
     "output_type": "execute_result"
    }
   ],
   "source": [
    "a = torch.arange(3).view(3, 1)\n",
    "a"
   ]
  },
  {
   "cell_type": "code",
   "execution_count": 48,
   "metadata": {
    "id": "ZnvcfqKQarun",
    "outputId": "fa7dabf9-eef2-4b1e-fe98-a5da1e4a78bf"
   },
   "outputs": [
    {
     "data": {
      "text/plain": [
       "tensor([[0, 1]])"
      ]
     },
     "execution_count": 48,
     "metadata": {},
     "output_type": "execute_result"
    }
   ],
   "source": [
    "b = torch.arange(2).view(1, 2)\n",
    "b"
   ]
  },
  {
   "cell_type": "code",
   "execution_count": 49,
   "metadata": {
    "id": "v98DyzT2aruw",
    "outputId": "3e211186-f1db-41bd-e3c0-9085c7a886a7"
   },
   "outputs": [
    {
     "data": {
      "text/plain": [
       "tensor([[0, 1],\n",
       "        [1, 2],\n",
       "        [2, 3]])"
      ]
     },
     "execution_count": 49,
     "metadata": {},
     "output_type": "execute_result"
    }
   ],
   "source": [
    "a + b"
   ]
  },
  {
   "cell_type": "markdown",
   "metadata": {
    "id": "l5noUEnzaru2"
   },
   "source": [
    "---\n",
    "## 5 Diferenciación automática\n",
    "\n",
    "![data](https://github.com/gibranfp/CursoAprendizajeProfundo/blob/master/figs/pytorch_retro.png?raw=1)\n",
    "\n",
    "Fuente: Automatic Differentiation in Machine Learning: a Survey"
   ]
  },
  {
   "cell_type": "markdown",
   "metadata": {
    "id": "cesMHz-yaru4"
   },
   "source": [
    "Definamos $y = 2 x^{3} + 3 x^{2}$ y derivemos con respecto a $x$ y $y$: $f'_x(2) = 6(2)^2$, $f'_y(2) = 6(3)$."
   ]
  },
  {
   "cell_type": "code",
   "execution_count": 50,
   "metadata": {
    "id": "1-P9AV7garu5",
    "outputId": "5dda1672-ffec-4fce-8b64-b2f601783923"
   },
   "outputs": [
    {
     "data": {
      "text/plain": [
       "(tensor(2., requires_grad=True), None)"
      ]
     },
     "execution_count": 50,
     "metadata": {},
     "output_type": "execute_result"
    }
   ],
   "source": [
    "# creamos el tensor con rastreo de gradiente activado\n",
    "x =  torch.tensor(2.0, requires_grad=True)\n",
    "x, x.grad"
   ]
  },
  {
   "cell_type": "code",
   "execution_count": 51,
   "metadata": {
    "id": "pOuLOfw6arvH",
    "outputId": "4849e255-e25e-439f-ad84-2d54bb0189f3"
   },
   "outputs": [
    {
     "data": {
      "text/plain": [
       "(tensor(3., requires_grad=True), None)"
      ]
     },
     "execution_count": 51,
     "metadata": {},
     "output_type": "execute_result"
    }
   ],
   "source": [
    "# creamos el tensor con rastreo de gradiente activado\n",
    "y =  torch.tensor(3.0, requires_grad=True)\n",
    "y, y.grad"
   ]
  },
  {
   "cell_type": "code",
   "execution_count": 52,
   "metadata": {
    "id": "_yC6eA2ParvP",
    "outputId": "09509f05-65d4-4378-e036-05d9c2e59f9a"
   },
   "outputs": [
    {
     "data": {
      "text/plain": [
       "tensor(43., grad_fn=<AddBackward0>)"
      ]
     },
     "execution_count": 52,
     "metadata": {},
     "output_type": "execute_result"
    }
   ],
   "source": [
    "# definamos la función\n",
    "z = 2 * (x ** 3) + 3 * (y ** 2)\n",
    "z"
   ]
  },
  {
   "cell_type": "code",
   "execution_count": 53,
   "metadata": {
    "id": "kWGwi8piarvW",
    "outputId": "dbc1a245-be4e-43d6-aa0c-f48e4100beeb"
   },
   "outputs": [
    {
     "data": {
      "text/plain": [
       "<AddBackward0 at 0x13a42ec0208>"
      ]
     },
     "execution_count": 53,
     "metadata": {},
     "output_type": "execute_result"
    }
   ],
   "source": [
    "# grad_fn rastrea el arbol de expresión que creo el tensor\n",
    "z.grad_fn"
   ]
  },
  {
   "cell_type": "code",
   "execution_count": 54,
   "metadata": {
    "id": "n58ms4nWarvb"
   },
   "outputs": [],
   "source": [
    "# retropropagamos\n",
    "z.backward()"
   ]
  },
  {
   "cell_type": "code",
   "execution_count": 55,
   "metadata": {
    "id": "oBDak4uyarvm",
    "outputId": "97ef8970-0cc3-4472-ceec-0c6a9159e561"
   },
   "outputs": [
    {
     "data": {
      "text/plain": [
       "(tensor(24.), tensor(18.))"
      ]
     },
     "execution_count": 55,
     "metadata": {},
     "output_type": "execute_result"
    }
   ],
   "source": [
    "# gradiente respecto de x y y\n",
    "x.grad, y.grad"
   ]
  },
  {
   "cell_type": "code",
   "execution_count": null,
   "metadata": {},
   "outputs": [],
   "source": []
  }
 ],
 "metadata": {
  "colab": {
   "name": "1d_pytorch.ipynb",
   "provenance": []
  },
  "kernelspec": {
   "display_name": "Python 3",
   "language": "python",
   "name": "python3"
  },
  "language_info": {
   "codemirror_mode": {
    "name": "ipython",
    "version": 3
   },
   "file_extension": ".py",
   "mimetype": "text/x-python",
   "name": "python",
   "nbconvert_exporter": "python",
   "pygments_lexer": "ipython3",
   "version": "3.6.12"
  }
 },
 "nbformat": 4,
 "nbformat_minor": 1
}
