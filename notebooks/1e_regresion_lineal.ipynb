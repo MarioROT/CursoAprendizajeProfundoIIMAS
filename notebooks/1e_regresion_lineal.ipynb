{
 "cells": [
  {
   "cell_type": "markdown",
   "metadata": {},
   "source": [
    "<a href=\"https://colab.research.google.com/github/gibranfp/CursoAprendizajeProfundo/blob/master/notebooks/1e_regresion_lineal.ipynb\" target=\"_parent\"><img src=\"https://colab.research.google.com/assets/colab-badge.svg\" alt=\"Open In Colab\"/></a>"
   ]
  },
  {
   "cell_type": "markdown",
   "metadata": {},
   "source": [
    "\n",
    "# Regresión lineal simple\n",
    "\n",
    "<div style=\"text-align: right\"> Bere et Richardt </div>\n",
    "\n",
    "---\n",
    "\n",
    "Para comenzar a familiarizarnos con PyTorch implementaremos un modelo de regresión lineal simple sobre un conjunto de datos de calificaciones, lo que deseamos predecir es que calificación tendrá el alumno en un examen. El conjunto de datos posee dos atributos entrada: la calificación que obtuvo en un examen previo y el número de horas que estudio el alumno para presentar el examen. En este ejemplo nos enfocaremos en realizar regresion lineal simple, por lo tanto, consideraremos únicamente un atributo de entrada, el número de horas de estudio.\n"
   ]
  },
  {
   "cell_type": "markdown",
   "metadata": {},
   "source": [
    "## 1 Preparación\n",
    "\n",
    "### 1.1 Bibliotecas"
   ]
  },
  {
   "cell_type": "code",
   "execution_count": 1,
   "metadata": {},
   "outputs": [
    {
     "data": {
      "text/plain": [
       "<torch._C.Generator at 0x15495312480>"
      ]
     },
     "execution_count": 1,
     "metadata": {},
     "output_type": "execute_result"
    }
   ],
   "source": [
    "# sistema de archivos\n",
    "import os\n",
    "# tomar n elementos de una secuencia\n",
    "from itertools import islice as take\n",
    "\n",
    "# gráficas\n",
    "import matplotlib.pyplot as plt\n",
    "# arreglos multidimensionales\n",
    "import numpy as np\n",
    "# csv\n",
    "import pandas as pd\n",
    "\n",
    "# redes neuronales\n",
    "import torch\n",
    "import torch.nn as nn\n",
    "import torch.nn.functional as F\n",
    "import torch.optim as optim\n",
    "import torchvision.datasets.utils as vutils\n",
    "\n",
    "from torch.utils.data import DataLoader\n",
    "from torchvision.datasets.utils import download_url\n",
    "\n",
    "\n",
    "# directorio de datos\n",
    "URL = 'https://raw.githubusercontent.com/gibranfp/CursoAprendizajeProfundo/master/data/califs/califs.csv'\n",
    "base_dir = '../data/califs/'\n",
    "filename = 'califs.csv'\n",
    "filepath = os.path.join(base_dir, 'califs.csv')\n",
    "\n",
    "# para reproducibilidad\n",
    "SEED = 0\n",
    "torch.manual_seed(SEED)"
   ]
  },
  {
   "cell_type": "markdown",
   "metadata": {},
   "source": [
    "## 2 Datos"
   ]
  },
  {
   "cell_type": "markdown",
   "metadata": {},
   "source": [
    "Descargamos los datos para el caso de Colab."
   ]
  },
  {
   "cell_type": "code",
   "execution_count": 2,
   "metadata": {},
   "outputs": [
    {
     "name": "stdout",
     "output_type": "stream",
     "text": [
      "Using downloaded and verified file: ../data/califs/califs.csv\n"
     ]
    }
   ],
   "source": [
    "download_url(URL, base_dir, filename)"
   ]
  },
  {
   "cell_type": "markdown",
   "metadata": {},
   "source": [
    "Utilizamos [Pandas](https://pandas.pydata.org/) para la lectura del csv e imprimimos los primeros 5 ejemplos."
   ]
  },
  {
   "cell_type": "code",
   "execution_count": 3,
   "metadata": {
    "scrolled": true
   },
   "outputs": [
    {
     "data": {
      "text/html": [
       "<div>\n",
       "<style scoped>\n",
       "    .dataframe tbody tr th:only-of-type {\n",
       "        vertical-align: middle;\n",
       "    }\n",
       "\n",
       "    .dataframe tbody tr th {\n",
       "        vertical-align: top;\n",
       "    }\n",
       "\n",
       "    .dataframe thead th {\n",
       "        text-align: right;\n",
       "    }\n",
       "</style>\n",
       "<table border=\"1\" class=\"dataframe\">\n",
       "  <thead>\n",
       "    <tr style=\"text-align: right;\">\n",
       "      <th></th>\n",
       "      <th>calif anterior</th>\n",
       "      <th>horas de estudio</th>\n",
       "      <th>calificación</th>\n",
       "    </tr>\n",
       "  </thead>\n",
       "  <tbody>\n",
       "    <tr>\n",
       "      <th>0</th>\n",
       "      <td>5.638</td>\n",
       "      <td>8.289</td>\n",
       "      <td>5.136</td>\n",
       "    </tr>\n",
       "    <tr>\n",
       "      <th>1</th>\n",
       "      <td>6.744</td>\n",
       "      <td>9.389</td>\n",
       "      <td>5.931</td>\n",
       "    </tr>\n",
       "    <tr>\n",
       "      <th>2</th>\n",
       "      <td>5.136</td>\n",
       "      <td>10.060</td>\n",
       "      <td>5.484</td>\n",
       "    </tr>\n",
       "    <tr>\n",
       "      <th>3</th>\n",
       "      <td>5.748</td>\n",
       "      <td>10.421</td>\n",
       "      <td>6.524</td>\n",
       "    </tr>\n",
       "    <tr>\n",
       "      <th>4</th>\n",
       "      <td>7.136</td>\n",
       "      <td>10.434</td>\n",
       "      <td>6.770</td>\n",
       "    </tr>\n",
       "  </tbody>\n",
       "</table>\n",
       "</div>"
      ],
      "text/plain": [
       "   calif anterior  horas de estudio  calificación\n",
       "0           5.638             8.289         5.136\n",
       "1           6.744             9.389         5.931\n",
       "2           5.136            10.060         5.484\n",
       "3           5.748            10.421         6.524\n",
       "4           7.136            10.434         6.770"
      ]
     },
     "execution_count": 3,
     "metadata": {},
     "output_type": "execute_result"
    }
   ],
   "source": [
    "df = pd.read_csv(filepath, names=['calif anterior','horas de estudio','calificación'])\n",
    "df.head(5)"
   ]
  },
  {
   "cell_type": "markdown",
   "metadata": {},
   "source": [
    "Graficamos los datos para tener una idea más clara de como se encuentran distribuidos."
   ]
  },
  {
   "cell_type": "code",
   "execution_count": 4,
   "metadata": {
    "scrolled": true
   },
   "outputs": [
    {
     "data": {
      "image/png": "[encoded data removed]",
      "text/plain": [
       "<Figure size 432x288 with 1 Axes>"
      ]
     },
     "metadata": {
      "needs_background": "light"
     },
     "output_type": "display_data"
    }
   ],
   "source": [
    "# se obtiene el atributo de entrada y se agrega una dimensión\n",
    "x_trn = np.array(df.iloc[:,1], dtype=\"float32\")[..., np.newaxis]\n",
    "# se obtiene la salda\n",
    "y_trn = np.array(df.iloc[:,-1], dtype=\"float32\")[..., np.newaxis]\n",
    "# graficamos\n",
    "plt.plot(x_trn, y_trn, '.', color='m', markersize=8)\n",
    "plt.xlabel('horas de estudio')\n",
    "plt.ylabel('calificación')\n",
    "plt.show()"
   ]
  },
  {
   "cell_type": "markdown",
   "metadata": {},
   "source": [
    "### 2.1 Tuberias de datos con PyTorch"
   ]
  },
  {
   "cell_type": "markdown",
   "metadata": {},
   "source": [
    "<!-- ![data](https://raw.githubusercontent.com/bereml/cap-2021-1/blob/master/figs/dataloader.png) -->\n",
    "\n",
    "![data](../figs/regresion_lineal_datos.png)"
   ]
  },
  {
   "cell_type": "code",
   "execution_count": 5,
   "metadata": {},
   "outputs": [],
   "source": [
    "class CalifDS:\n",
    "    \n",
    "    def __init__(self, X, Y):\n",
    "        self.x = X\n",
    "        self.y = Y\n",
    "\n",
    "    def __getitem__(self, i):\n",
    "        return self.x[i], self.y[i]\n",
    "\n",
    "    def __len__(self):\n",
    "        return len(self.y)"
   ]
  },
  {
   "cell_type": "markdown",
   "metadata": {},
   "source": [
    "### 2.2 Exploración\n",
    "\n",
    "\n",
    "Para ver el funcionamiento de la tubería de datos imprimimos la forma de cada lote y su primer elemento."
   ]
  },
  {
   "cell_type": "code",
   "execution_count": 6,
   "metadata": {},
   "outputs": [
    {
     "name": "stdout",
     "output_type": "stream",
     "text": [
      "x shape=torch.Size([16, 1]) dtype=torch.float32\n",
      "y shape=torch.Size([16, 1]) dtype=torch.float32\n"
     ]
    }
   ],
   "source": [
    "# tamaño del lote\n",
    "batch_size = 16\n",
    "\n",
    "# creamos un Dataset\n",
    "ds = CalifDS(x_trn, y_trn)\n",
    "\n",
    "# creamos un DataLoader\n",
    "trn_dl = DataLoader(ds, batch_size=batch_size, shuffle=True)\n",
    "\n",
    "# desplegamos un lote de imágenes\n",
    "for x, y in take(trn_dl, 1):\n",
    "    print(f'x shape={x.shape} dtype={x.dtype}')\n",
    "    print(f'y shape={y.shape} dtype={y.dtype}')"
   ]
  },
  {
   "cell_type": "code",
   "execution_count": 7,
   "metadata": {},
   "outputs": [
    {
     "data": {
      "text/plain": [
       "50"
      ]
     },
     "execution_count": 7,
     "metadata": {},
     "output_type": "execute_result"
    }
   ],
   "source": [
    "len(ds)"
   ]
  },
  {
   "cell_type": "markdown",
   "metadata": {},
   "source": [
    "### Quiz 1\n",
    "\n",
    "¿ Cuáles serían las dimensiones si consideraramos los dos atributos de entrada?\n",
    "\n",
    "**Respuesta:** Dado que estamos considerando dos paramteros las dimensiones de cada elemento en el conjunto de entrada aumentan a 2. Por lo que si como en este caso elejimos un lote de 16, las dimensiones quedarían $[16, 2]$ solo para $x$"
   ]
  },
  {
   "cell_type": "markdown",
   "metadata": {},
   "source": [
    "## 3 Modelo"
   ]
  },
  {
   "cell_type": "markdown",
   "metadata": {},
   "source": [
    "### 3.1 Definición de la arquitectura"
   ]
  },
  {
   "cell_type": "markdown",
   "metadata": {},
   "source": [
    "#### Alto nivel (similar a Keras) "
   ]
  },
  {
   "cell_type": "code",
   "execution_count": 8,
   "metadata": {},
   "outputs": [],
   "source": [
    "model = nn.Sequential(\n",
    "    nn.Linear(1, 1)\n",
    ")"
   ]
  },
  {
   "cell_type": "markdown",
   "metadata": {},
   "source": [
    "#### Medio nivel (Chainer, tensorflow.keras.model) "
   ]
  },
  {
   "cell_type": "code",
   "execution_count": 9,
   "metadata": {},
   "outputs": [],
   "source": [
    "#se define la clase RegLin que hereda de torch.nn.Module\n",
    "class RegLin(nn.Module):\n",
    "\n",
    "    #se define el inicializador\n",
    "    def __init__(self):\n",
    "        # se llama al inicializador de la clase padre\n",
    "        super(RegLin, self).__init__()\n",
    "        # importante: se definen las capas como atributos de la clase\n",
    "        self.fc = nn.Linear(1, 1)\n",
    "\n",
    "    # método para inferencia\n",
    "    def forward(self, x):\n",
    "        # definición de arquitectura \n",
    "        return self.fc(x)\n",
    "\n",
    "model = RegLin()"
   ]
  },
  {
   "cell_type": "markdown",
   "metadata": {},
   "source": [
    "#### Bajo nivel"
   ]
  },
  {
   "cell_type": "code",
   "execution_count": 10,
   "metadata": {},
   "outputs": [],
   "source": [
    "class RegLinBajo(nn.Module):\n",
    "\n",
    "    def __init__(self, in_features, out_features):\n",
    "        super(RegLinBajo, self).__init__()\n",
    "        self.in_features = in_features\n",
    "        self.out_features = out_features\n",
    "        # se envuelven los tensores en parámetros\n",
    "        # para que model.parameters() los regrese\n",
    "        # y sean visibles al optimizador\n",
    "        self.weights = nn.Parameter(torch.zeros(in_features, out_features))\n",
    "        self.bias = nn.Parameter(torch.zeros(out_features))\n",
    "\n",
    "    def forward(self, x):\n",
    "        y = x @ self.weights + self.bias\n",
    "        return y\n",
    "    \n",
    "    def extra_repr(self):\n",
    "        return 'in_features={}, out_features={}, bias={}'.format(\n",
    "            self.in_features, self.out_features, self.bias is not None\n",
    "        )\n",
    "\n",
    "# model = RegLinBajo(1, 1)"
   ]
  },
  {
   "cell_type": "markdown",
   "metadata": {},
   "source": [
    "### 3.2 Modulos y parámetros de PyTorch\n",
    "\n",
    "Para implementar una arquitectura, PyTorch define las dos siguientes clases:\n",
    "\n",
    "* `nn.Module` define una red neuronal que internamente puede tener otras redes neuronales anidadas (o capas). Tres metodos importantes son:\n",
    "  * `__init__(self, args)` es el inicilizador que define al objeto,\n",
    "  * `fordward(x)` realizar predicción (hacia adelante),\n",
    "  * `parameters(x)` regresa una lista de los parámetros (`nn.Parameter`) de la red y redes anidadas.\n",
    "\n",
    "\n",
    "* `nn.Parameter` envuelve un tensor solo para marcarlo como parámetro y que sea regresado por `nn.Module.parameters(x)`."
   ]
  },
  {
   "cell_type": "markdown",
   "metadata": {},
   "source": [
    "### Quiz 2\n",
    "\n",
    "¿Cómo podríamos dibujar la regresión lineal como una red neuronal?\n",
    "\n",
    "**Respuesta:** En este caso una regresion lineal puede ser representada como una sola neurona donde las entradas son las caracteristicas que tomamos en cuenta, y la salida es el valor asignado para la regresión. en este caso sin función de activación dada la naturaleza del problema y del método."
   ]
  },
  {
   "cell_type": "markdown",
   "metadata": {},
   "source": [
    "### 3.3 Impresión de la arquitectura"
   ]
  },
  {
   "cell_type": "code",
   "execution_count": 11,
   "metadata": {},
   "outputs": [
    {
     "name": "stdout",
     "output_type": "stream",
     "text": [
      "RegLin(\n",
      "  (fc): Linear(in_features=1, out_features=1, bias=True)\n",
      ")\n"
     ]
    }
   ],
   "source": [
    "print(model)"
   ]
  },
  {
   "cell_type": "markdown",
   "metadata": {},
   "source": [
    "### 3.4 Prueba de la arquitectura"
   ]
  },
  {
   "cell_type": "code",
   "execution_count": 12,
   "metadata": {},
   "outputs": [
    {
     "name": "stdout",
     "output_type": "stream",
     "text": [
      "torch.float32\n",
      "torch.Size([1, 1])\n",
      "torch.float32\n"
     ]
    }
   ],
   "source": [
    "# inferencia con datos sintéticos\n",
    "x = torch.zeros(1, 1)\n",
    "y = model(x)\n",
    "print(x.dtype)\n",
    "print(y.shape)\n",
    "print(y.dtype)"
   ]
  },
  {
   "cell_type": "markdown",
   "metadata": {},
   "source": [
    "## 4 Entrenamiento\n",
    "\n",
    "El entrenamiento de un paso del modelo se ilustra con la siguiente figura:\n",
    "\n",
    "![alt text](../figs/regresion_lineal_entrenamiento.png)\n",
    "\n",
    "\n",
    "### 4.1 Ciclo de entrenamiento"
   ]
  },
  {
   "cell_type": "markdown",
   "metadata": {},
   "source": [
    "Realizamos el entrenamiento de nuestro modelo durante dos epocas."
   ]
  },
  {
   "cell_type": "code",
   "execution_count": 13,
   "metadata": {},
   "outputs": [],
   "source": [
    "# optimizador\n",
    "opt = optim.SGD(model.parameters(), lr=1e-3)\n",
    "\n",
    "# historial de pérdida\n",
    "loss_hist = []\n",
    "\n",
    "# ciclo de entrenamiento\n",
    "EPOCHS = 3\n",
    "for _ in range(EPOCHS):\n",
    "\n",
    "    # entrenamiento de una época\n",
    "    for x, y_true in trn_dl:\n",
    "        # hacemos inferencia para obtener los logits\n",
    "        y_lgts = model(x)\n",
    "        # calculamos de pérdida\n",
    "        loss = F.mse_loss(y_lgts, y_true)\n",
    "        # vaciamos los gradientes\n",
    "        opt.zero_grad()\n",
    "        # retropropagamos\n",
    "        loss.backward()\n",
    "        # actulizamos parámetros\n",
    "        opt.step()\n",
    "        \n",
    "        # guardamos historial de pérdida\n",
    "        loss_hist.append(loss.item() * 100)\n",
    "\n",
    "#print(loss_hist)"
   ]
  },
  {
   "cell_type": "code",
   "execution_count": 14,
   "metadata": {},
   "outputs": [
    {
     "data": {
      "text/plain": [
       "[2941.518783569336,\n",
       " 1096.0721969604492,\n",
       " 580.663537979126,\n",
       " 378.9440155029297,\n",
       " 176.40447616577148,\n",
       " 83.35460424423218,\n",
       " 82.49929547309875,\n",
       " 34.373125433921814,\n",
       " 40.22888541221619,\n",
       " 22.360675036907196,\n",
       " 24.915549159049988,\n",
       " 2.267845906317234]"
      ]
     },
     "execution_count": 14,
     "metadata": {},
     "output_type": "execute_result"
    }
   ],
   "source": [
    "loss_hist"
   ]
  },
  {
   "cell_type": "markdown",
   "metadata": {},
   "source": [
    "Graficamos la pérdida para ver el comportamiento durante el entrenamiento."
   ]
  },
  {
   "cell_type": "code",
   "execution_count": 15,
   "metadata": {
    "scrolled": true
   },
   "outputs": [
    {
     "data": {
      "image/png": "[encoded data removed]",
      "text/plain": [
       "<Figure size 432x288 with 1 Axes>"
      ]
     },
     "metadata": {
      "needs_background": "light"
     },
     "output_type": "display_data"
    }
   ],
   "source": [
    "plt.plot(loss_hist, color='red')\n",
    "plt.xlabel('iteraciones')\n",
    "plt.ylabel('ECM');"
   ]
  },
  {
   "cell_type": "markdown",
   "metadata": {},
   "source": [
    "Obtenemos los parámetros de nuestro modelo."
   ]
  },
  {
   "cell_type": "code",
   "execution_count": 16,
   "metadata": {},
   "outputs": [],
   "source": [
    "[w, b] = model.parameters()"
   ]
  },
  {
   "cell_type": "markdown",
   "metadata": {},
   "source": [
    "Imprimimos la pendiente:"
   ]
  },
  {
   "cell_type": "code",
   "execution_count": 17,
   "metadata": {},
   "outputs": [
    {
     "data": {
      "text/plain": [
       "Parameter containing:\n",
       "tensor([[0.5428]], requires_grad=True)"
      ]
     },
     "execution_count": 17,
     "metadata": {},
     "output_type": "execute_result"
    }
   ],
   "source": [
    "w"
   ]
  },
  {
   "cell_type": "markdown",
   "metadata": {},
   "source": [
    "Imprimimos la ordenada:"
   ]
  },
  {
   "cell_type": "code",
   "execution_count": 18,
   "metadata": {},
   "outputs": [
    {
     "data": {
      "text/plain": [
       "Parameter containing:\n",
       "tensor([0.7038], requires_grad=True)"
      ]
     },
     "execution_count": 18,
     "metadata": {},
     "output_type": "execute_result"
    }
   ],
   "source": [
    "b"
   ]
  },
  {
   "cell_type": "markdown",
   "metadata": {},
   "source": [
    "## Inferencia\n",
    "\n",
    "Graficamos nuestro modelo."
   ]
  },
  {
   "cell_type": "code",
   "execution_count": 19,
   "metadata": {},
   "outputs": [
    {
     "data": {
      "image/png": "[encoded data removed]",
      "text/plain": [
       "<Figure size 432x288 with 1 Axes>"
      ]
     },
     "metadata": {
      "needs_background": "light"
     },
     "output_type": "display_data"
    }
   ],
   "source": [
    "x_train = torch.from_numpy(x_trn)\n",
    "\n",
    "with torch.no_grad():\n",
    "    y_pred = model(x_train).numpy()\n",
    "\n",
    "plt.plot(x_trn, y_trn, '.', color='m', markersize=9)\n",
    "plt.plot(x_trn, y_pred, color='blue')\n",
    "plt.xlabel('horas estudiadas')\n",
    "plt.ylabel('calificación obtenida');"
   ]
  },
  {
   "cell_type": "markdown",
   "metadata": {},
   "source": [
    "Ahora podemos hacer predicciones con nuestro modelo, por ejemplo, podemos predecir que calificación tendría un alumno si sabemos que estudió durante 12 horas para el examen."
   ]
  },
  {
   "cell_type": "code",
   "execution_count": 20,
   "metadata": {},
   "outputs": [
    {
     "name": "stdout",
     "output_type": "stream",
     "text": [
      "La calificación será: 7.2174067\n"
     ]
    }
   ],
   "source": [
    "x = torch.tensor([[12.0]])\n",
    "\n",
    "# deshabilitamos el rastreo de gradientes\n",
    "with torch.no_grad():\n",
    "    y_pred = model(x).numpy()\n",
    "\n",
    "print(\"La calificación será:\", y_pred[0][0])"
   ]
  },
  {
   "cell_type": "code",
   "execution_count": null,
   "metadata": {},
   "outputs": [],
   "source": []
  }
 ],
 "metadata": {
  "kernelspec": {
   "display_name": "Python 3",
   "language": "python",
   "name": "python3"
  },
  "language_info": {
   "codemirror_mode": {
    "name": "ipython",
    "version": 3
   },
   "file_extension": ".py",
   "mimetype": "text/x-python",
   "name": "python",
   "nbconvert_exporter": "python",
   "pygments_lexer": "ipython3",
   "version": "3.6.12"
  }
 },
 "nbformat": 4,
 "nbformat_minor": 4
}
