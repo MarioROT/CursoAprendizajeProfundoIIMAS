{
 "cells": [
  {
   "cell_type": "markdown",
   "metadata": {
    "colab_type": "text",
    "id": "view-in-github"
   },
   "source": [
    "<a href=\"https://colab.research.google.com/github/gibranfp/CursoAprendizajeProfundo/blob/master/notebooks/2a_convolucion.ipynb\" target=\"_parent\"><img src=\"https://colab.research.google.com/assets/colab-badge.svg\" alt=\"Open In Colab\"/></a>"
   ]
  },
  {
   "cell_type": "markdown",
   "metadata": {
    "id": "85hL2cbtWiHs"
   },
   "source": [
    "# Convolución"
   ]
  },
  {
   "cell_type": "code",
   "execution_count": 1,
   "metadata": {
    "id": "jHwLDelamRFq"
   },
   "outputs": [],
   "source": [
    "import matplotlib.pyplot as plt\n",
    "import numpy as np\n",
    "from sklearn.datasets import load_digits\n",
    "from torchvision.datasets import MNIST"
   ]
  },
  {
   "cell_type": "markdown",
   "metadata": {},
   "source": [
    "## Se hace el experimento cargando MNIST"
   ]
  },
  {
   "cell_type": "code",
   "execution_count": 2,
   "metadata": {},
   "outputs": [],
   "source": [
    "ds = MNIST(\n",
    "    # directorio de datos\n",
    "    root='../data', \n",
    "    # subconjunto de entrenamiento\n",
    "    train=True, \n",
    "    # convertir la imagen a ndarray\n",
    "    transform=np.array, \n",
    "    # descargar el conjunto\n",
    "    download=False\n",
    ")"
   ]
  },
  {
   "cell_type": "code",
   "execution_count": 3,
   "metadata": {},
   "outputs": [],
   "source": [
    "lab = [ds[i][1]for i in range(len(ds))]\n",
    "labels = [j for j,v in enumerate(lab) if v < 2]"
   ]
  },
  {
   "cell_type": "code",
   "execution_count": 4,
   "metadata": {},
   "outputs": [],
   "source": [
    "dat = [0 for i in range(len(labels))]\n",
    "for r,i in enumerate(labels):\n",
    "    dat[r] = ds[i]"
   ]
  },
  {
   "cell_type": "code",
   "execution_count": 5,
   "metadata": {},
   "outputs": [
    {
     "data": {
      "image/png": "[encoded data removed]",
      "text/plain": [
       "<Figure size 720x360 with 2 Axes>"
      ]
     },
     "metadata": {
      "needs_background": "light"
     },
     "output_type": "display_data"
    }
   ],
   "source": [
    "Cero,cero = dat[0]\n",
    "Uno,uno = dat[100]\n",
    "fig, axs = plt.subplots(1, 2, figsize=(10, 5))\n",
    "axs[0].imshow(Cero, cmap = 'gray') \n",
    "plt.title('Ejemplo de dígito 0')\n",
    "axs[1].imshow(Uno, cmap = 'gray') \n",
    "plt.title('Ejemplo de dígito 1')\n",
    "plt.show() "
   ]
  },
  {
   "cell_type": "markdown",
   "metadata": {
    "id": "W02429ROng15"
   },
   "source": [
    "## Carga conjunto de datos de dígitos \n",
    "Vamos a cargar el conjunto de datos de dígitos usando la biblioteca `scikit-learn`:"
   ]
  },
  {
   "cell_type": "code",
   "execution_count": 6,
   "metadata": {
    "id": "i8Sxl3zRoe7W"
   },
   "outputs": [],
   "source": [
    "# digits = load_digits() \n",
    "# zeros_ones = digits.target < 2\n",
    "# data = digits.images[zeros_ones]\n",
    "# labels = digits.target[zeros_ones]"
   ]
  },
  {
   "cell_type": "markdown",
   "metadata": {
    "id": "5Sids-j5x2FS"
   },
   "source": [
    "Es conveniente normalizar los valores de las imágenes para que estén en el mismo rango ($0-1$). "
   ]
  },
  {
   "cell_type": "code",
   "execution_count": 7,
   "metadata": {
    "id": "d820p2wPyY5-"
   },
   "outputs": [],
   "source": [
    "# data = data / data.max()"
   ]
  },
  {
   "cell_type": "markdown",
   "metadata": {
    "id": "ojbaHdaK-eo7"
   },
   "source": [
    "Este conjuntos de datos está compuesto por imágenes de $8 \\times 8$ de los dígitos $0-9$. Visualicemos 2 instancias de los dígitos $0$ y $1$:"
   ]
  },
  {
   "cell_type": "code",
   "execution_count": 8,
   "metadata": {
    "id": "eIw_VqNVeck3"
   },
   "outputs": [],
   "source": [
    "# fig, axs = plt.subplots(1, 2, figsize=(10, 5))\n",
    "# axs[0].imshow(Cero, cmap = 'gray') \n",
    "# plt.title('Ejemplo de dígito 0')\n",
    "# axs[1].imshow(Uno, cmap = 'gray') \n",
    "# plt.title('Ejemplo de dígito 1')\n",
    "# plt.show() "
   ]
  },
  {
   "cell_type": "markdown",
   "metadata": {
    "id": "P6QRdNNaCmc8"
   },
   "source": [
    "## Convolución y correlación cruzada\n",
    "Ahora consideremos las operación de convolución entre una imagen $I$ y un filtro $W$, la cual está definida por\n",
    "\n",
    "$$\n",
    "A_{i,j} = (\\mathbf{I} * \\mathbf{W})_{i,j} = \\sum_m \\sum_n I_{m, n} W_{i - m, j - n}\n",
    "$$\n",
    "\n",
    "La convolución es commutativa, por lo tanto \n",
    "\n",
    "$$\n",
    "A_{i,j} = (\\mathbf{W} * \\mathbf{I})_{i,j} = \\sum_m \\sum_n I_{i - m, j - n} W_{m,n}\n",
    "$$\n",
    "\n",
    "En lugar de la convolución, frecuentemente se ocupa la operación de correlación cruzada para llevar a cabo las capas convolucionales. Esta operación es similar a la convolución pero sin voltear el filtro (por lo que pierde la propiedad de conmutatividad) y está dada por\n",
    "\n",
    "$$\n",
    "A_{i,j} = (\\mathbf{W} * \\mathbf{I})_{i,j} = \\sum_m \\sum_n I_{i + m, j + n} W_{m,n} \n",
    "$$\n",
    "\n",
    "El resultado de estas operaciones es el mapa de activaciones $A(i,j)$. \n",
    "\n"
   ]
  },
  {
   "cell_type": "code",
   "execution_count": 9,
   "metadata": {
    "id": "JK60sSz6pMgk"
   },
   "outputs": [],
   "source": [
    "def conv2d(I, W, b, stride = 1):\n",
    "    h_s = int(np.ceil(float(I.shape[0] - W.shape[0]) / float(stride) + 1))\n",
    "    w_s = int(np.ceil(float(I.shape[1] - W.shape[1]) / float(stride) + 1))\n",
    "    a = np.zeros((h_s, w_s))\n",
    "    for i in range(h_s):\n",
    "        for j in range(w_s):\n",
    "            I_m = I[i * stride:i * stride + W.shape[0], j * stride:j * stride + W.shape[1]]\n",
    "            a[i, j] = (I_m * W).sum()\n",
    "    return a"
   ]
  },
  {
   "cell_type": "markdown",
   "metadata": {
    "id": "RY9UBGoqhCDR"
   },
   "source": [
    "## Filtro\n",
    "\n",
    "Definamos un filtro de $3 \\times 3$ que detecte bordes en cierta orientación:"
   ]
  },
  {
   "cell_type": "code",
   "execution_count": 10,
   "metadata": {
    "id": "26O7xja9hDYM"
   },
   "outputs": [
    {
     "data": {
      "image/png": "[encoded data removed]",
      "text/plain": [
       "<Figure size 432x288 with 1 Axes>"
      ]
     },
     "metadata": {
      "needs_background": "light"
     },
     "output_type": "display_data"
    }
   ],
   "source": [
    "filter1 = np.zeros((5,5))\n",
    "np.fill_diagonal(filter1, np.array([1, 1, 1, 1, 1]))\n",
    "plt.imshow(filter1, cmap = 'gray') \n",
    "plt.show()"
   ]
  },
  {
   "cell_type": "markdown",
   "metadata": {
    "id": "xYS40PWxH7Su"
   },
   "source": [
    "Aplicando las operaciones de correlación cruzada y convolución de una imagen del dígito $0$ con dicho filtro y al revés obtenemos:"
   ]
  },
  {
   "cell_type": "code",
   "execution_count": 11,
   "metadata": {
    "id": "JoyByBCuhK2Y"
   },
   "outputs": [
    {
     "data": {
      "image/png": "[encoded data removed]",
      "text/plain": [
       "<Figure size 720x360 with 6 Axes>"
      ]
     },
     "metadata": {
      "needs_background": "light"
     },
     "output_type": "display_data"
    }
   ],
   "source": [
    "from scipy import signal\n",
    "ccorr = signal.correlate2d(Cero, filter1, mode = 'valid')\n",
    "ccorr2 = signal.correlate2d(filter1, Cero, mode = 'valid') \n",
    "conv = signal.convolve2d(Cero, filter1, mode = 'valid') \n",
    "conv2 = signal.convolve2d(filter1, Cero, mode = 'valid') \n",
    "a = conv2d(Cero, filter1, 0)\n",
    "fig, axs = plt.subplots(1, 6, figsize=(10, 5))\n",
    "axs[0].imshow(Cero, cmap = 'gray') \n",
    "axs[1].imshow(ccorr, cmap = 'gray') \n",
    "axs[2].imshow(ccorr2, cmap = 'gray') \n",
    "axs[3].imshow(conv, cmap = 'gray') \n",
    "axs[4].imshow(conv2, cmap = 'gray') \n",
    "axs[5].imshow(a, cmap = 'gray') \n",
    "plt.show()"
   ]
  },
  {
   "cell_type": "markdown",
   "metadata": {
    "id": "H9BE4QqWIX3W"
   },
   "source": [
    "Observa que el resultado de la correlación cruzada de la imagen con el filtro es diferente al del filtro con la imagen. En contraste, la convolución es conmutativa y produce el mismo resultado en ambos casos.\n",
    "\n",
    "Haciendo lo mismo para una imagen del dígito $1$:"
   ]
  },
  {
   "cell_type": "code",
   "execution_count": 12,
   "metadata": {
    "id": "OlX6n1YgA6p0"
   },
   "outputs": [
    {
     "data": {
      "image/png": "[encoded data removed]",
      "text/plain": [
       "<Figure size 720x360 with 6 Axes>"
      ]
     },
     "metadata": {
      "needs_background": "light"
     },
     "output_type": "display_data"
    }
   ],
   "source": [
    "corr = signal.correlate2d(Uno, filter1, mode = 'valid')\n",
    "corr2 = signal.correlate2d(filter1, Uno, mode = 'valid') \n",
    "conv = signal.convolve2d(Uno, filter1, mode = 'valid') \n",
    "conv2 = signal.convolve2d(filter1, Uno, mode = 'valid') \n",
    "a = conv2d(Uno, filter1, 0)\n",
    "fig, axs = plt.subplots(1, 6, figsize=(10, 5))\n",
    "axs[0].imshow(Uno, cmap = 'gray') \n",
    "axs[1].imshow(corr, cmap = 'gray') \n",
    "axs[2].imshow(corr2, cmap = 'gray') \n",
    "axs[3].imshow(conv, cmap = 'gray') \n",
    "axs[4].imshow(conv2, cmap = 'gray') \n",
    "axs[5].imshow(a, cmap = 'gray') \n",
    "plt.show()"
   ]
  },
  {
   "cell_type": "markdown",
   "metadata": {
    "id": "iLPhLhxUGd29"
   },
   "source": [
    "Podemos definir otros filtros de $3\\times 3$:"
   ]
  },
  {
   "cell_type": "code",
   "execution_count": 13,
   "metadata": {
    "id": "_Gy8dtc8GnMq"
   },
   "outputs": [
    {
     "data": {
      "image/png": "[encoded data removed]",
      "text/plain": [
       "<Figure size 432x288 with 4 Axes>"
      ]
     },
     "metadata": {
      "needs_background": "light"
     },
     "output_type": "display_data"
    }
   ],
   "source": [
    "filters = np.zeros((4, 5, 5))\n",
    "filters[0, :, :] = filter1\n",
    "filters[1, 2, :] = 1\n",
    "filters[2, :, 2] = 1\n",
    "filters[3, :, :] = filter1[::-1]\n",
    "\n",
    "b = np.zeros(4)\n",
    "\n",
    "plt.subplot(1,4,1)\n",
    "plt.imshow(filters[0], cmap = 'gray') \n",
    "plt.subplot(1,4,2)\n",
    "plt.imshow(filters[1], cmap = 'gray') \n",
    "plt.subplot(1,4,3)\n",
    "plt.imshow(filters[2], cmap = 'gray') \n",
    "plt.subplot(1,4,4)\n",
    "plt.imshow(filters[3], cmap = 'gray') \n",
    "plt.show()"
   ]
  },
  {
   "cell_type": "markdown",
   "metadata": {
    "id": "_rWqf1OfW_RW"
   },
   "source": [
    "Para aplicar la operación de convolución con cada uno de estos filtros definimos la siguiente función:"
   ]
  },
  {
   "cell_type": "code",
   "execution_count": 14,
   "metadata": {
    "id": "fHDYREZ0im1w"
   },
   "outputs": [],
   "source": [
    "def multi_conv2d(I, W, b, stride = 1):\n",
    "    k = W.shape[0]\n",
    "    activations = []\n",
    "    for i in range(k):\n",
    "        activations.append(conv2d(I, W[i], b[i], stride = 1)) \n",
    "\n",
    "    return np.array(activations)"
   ]
  },
  {
   "cell_type": "markdown",
   "metadata": {
    "id": "syOtzu1ySCLB"
   },
   "source": [
    "Evaluamos esta función con cuatro distintos filtros para nuestras dos imágenes, obteniendo cuatro mapas de activaciones por cada imagen."
   ]
  },
  {
   "cell_type": "code",
   "execution_count": 15,
   "metadata": {
    "id": "y--qB6r0K-HT"
   },
   "outputs": [
    {
     "data": {
      "image/png": "[encoded data removed]",
      "text/plain": [
       "<Figure size 432x288 with 12 Axes>"
      ]
     },
     "metadata": {
      "needs_background": "light"
     },
     "output_type": "display_data"
    }
   ],
   "source": [
    "activations_0 = np.tanh(multi_conv2d(Cero, filters, b))\n",
    "activations_1 = np.tanh(multi_conv2d(Uno, filters, b))\n",
    "\n",
    "for i in range(4):\n",
    "    plt.subplot(3,4,i + 1)\n",
    "    plt.imshow(filters[i], cmap = 'gray')\n",
    "    plt.subplot(3,4,i + 5)\n",
    "    plt.imshow(activations_0[i], cmap = 'gray')\n",
    "    plt.subplot(3,4,i + 9)\n",
    "    plt.imshow(activations_1[i], cmap = 'gray')"
   ]
  },
  {
   "cell_type": "markdown",
   "metadata": {
    "id": "JqeGeXo_XiiE"
   },
   "source": [
    "Ahora definimos funciones para realizar un submuestreo máximo a un conjunto de mapas de características:"
   ]
  },
  {
   "cell_type": "code",
   "execution_count": 16,
   "metadata": {
    "id": "Z_IcRjX13VGV"
   },
   "outputs": [],
   "source": [
    "def submuestreo_maximo(activations, block = (2,2)):\n",
    "    H, W = activations.shape\n",
    "    H_s = H // block[0]\n",
    "    W_s = W // block[1]\n",
    "\n",
    "    sub_a = np.zeros((H_s,W_s))\n",
    "    max_x = activations.reshape((H * W_s, block[1])).max(axis = 1)\n",
    "    sub_a = max_x.T.reshape((W_s, block[0], H_s)).max(axis = 1)\n",
    "\n",
    "    return sub_a\n",
    "\n",
    "def multi_submuestreo_maximo(activations, block = (2,2)):\n",
    "    k = activations.shape[0]\n",
    "    sub_a = []\n",
    "    for i in range(k):\n",
    "        sub_a.append(submuestreo_maximo(activations[i]))\n",
    "\n",
    "    return np.array(sub_a)"
   ]
  },
  {
   "cell_type": "markdown",
   "metadata": {
    "id": "K8BGPZGKS0FS"
   },
   "source": [
    "Aplicamos el submuestreo a nuestros mapas de activaciones"
   ]
  },
  {
   "cell_type": "code",
   "execution_count": 17,
   "metadata": {
    "id": "dCqTIsIqqdox"
   },
   "outputs": [
    {
     "data": {
      "image/png": "[encoded data removed]",
      "text/plain": [
       "<Figure size 432x288 with 8 Axes>"
      ]
     },
     "metadata": {
      "needs_background": "light"
     },
     "output_type": "display_data"
    }
   ],
   "source": [
    "sub_a0 = multi_submuestreo_maximo(activations_0)\n",
    "sub_a1 = multi_submuestreo_maximo(activations_1)\n",
    "for i in range(4):  \n",
    "\n",
    "  plt.subplot(2,4,i + 1)\n",
    "  plt.imshow(sub_a0[i], vmin = 0, cmap = 'gray')\n",
    "  plt.subplot(2,4,i + 5)\n",
    "  plt.imshow(sub_a1[i], vmin = 0, cmap = 'gray')"
   ]
  },
  {
   "cell_type": "code",
   "execution_count": null,
   "metadata": {},
   "outputs": [],
   "source": []
  }
 ],
 "metadata": {
  "accelerator": "GPU",
  "colab": {
   "collapsed_sections": [],
   "include_colab_link": true,
   "name": "2a_convolucion.ipynb",
   "private_outputs": true,
   "provenance": []
  },
  "kernelspec": {
   "display_name": "Python 3",
   "language": "python",
   "name": "python3"
  },
  "language_info": {
   "codemirror_mode": {
    "name": "ipython",
    "version": 3
   },
   "file_extension": ".py",
   "mimetype": "text/x-python",
   "name": "python",
   "nbconvert_exporter": "python",
   "pygments_lexer": "ipython3",
   "version": "3.6.12"
  }
 },
 "nbformat": 4,
 "nbformat_minor": 1
}
