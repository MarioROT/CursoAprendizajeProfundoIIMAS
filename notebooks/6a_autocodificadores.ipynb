{
 "cells": [
  {
   "cell_type": "markdown",
   "metadata": {
    "colab_type": "text",
    "id": "view-in-github"
   },
   "source": [
    "<a href=\"https://colab.research.google.com/github/gibranfp/CursoAprendizajeProfundo/blob/master/notebooks/6a_autocodificadores.ipynb\" target=\"_parent\"><img src=\"https://colab.research.google.com/assets/colab-badge.svg\" alt=\"Open In Colab\"/></a>"
   ]
  },
  {
   "cell_type": "markdown",
   "metadata": {
    "id": "aqjbxeS9ZTrD"
   },
   "source": [
    "# Autocodificadores\n",
    "En este libreta programaremos un autocodificador contractivo simple usando Pytorch y lo usaremos para reducir dimensiones en tres conjuntos de datos. "
   ]
  },
  {
   "cell_type": "code",
   "execution_count": 1,
   "metadata": {
    "colab": {
     "base_uri": "https://localhost:8080/"
    },
    "id": "xFiTTx7MV-xx",
    "outputId": "b08973a8-5407-4ccf-ef61-21d00786c34e"
   },
   "outputs": [
    {
     "data": {
      "text/plain": [
       "<torch._C.Generator at 0x155ddb76168>"
      ]
     },
     "execution_count": 1,
     "metadata": {},
     "output_type": "execute_result"
    }
   ],
   "source": [
    "import os\n",
    "\n",
    "import numpy as np\n",
    "import pandas as pd\n",
    "import matplotlib.pyplot as plt\n",
    "\n",
    "from sklearn.datasets import load_wine, load_digits\n",
    "from sklearn.decomposition import PCA\n",
    "from sklearn.preprocessing import StandardScaler\n",
    "\n",
    "import torch\n",
    "from torch.nn import Sequential\n",
    "from torch.nn import Linear, Sigmoid\n",
    "from torch.optim import Adam\n",
    "\n",
    "from torch.utils.data import Dataset, DataLoader\n",
    "from torchvision.datasets.utils import download_url\n",
    "\n",
    "from itertools import islice as take\n",
    "\n",
    "URL = 'https://raw.githubusercontent.com/gibranfp/CursoAprendizajeProfundo/master/data/iris/iris.csv'\n",
    "base_dir = '../data/iris/'\n",
    "filename = 'iris.csv'\n",
    "filepath = os.path.join(base_dir, 'iris.csv')\n",
    "\n",
    "SEED = 1\n",
    "torch.manual_seed(SEED)"
   ]
  },
  {
   "cell_type": "markdown",
   "metadata": {
    "id": "xjB9QXHhPIMo"
   },
   "source": [
    "Definimos nuestro autocodificador en una subclase, donde tanto el codificador como el decodificador tienen arquitecturas secuenciales. "
   ]
  },
  {
   "cell_type": "code",
   "execution_count": 2,
   "metadata": {
    "id": "kSw9zuJBjUoP"
   },
   "outputs": [],
   "source": [
    "class Autocodificador(torch.nn.Module):\n",
    "  def __init__(self, d, n_ocultas, n_salidas):\n",
    "    super(Autocodificador, self).__init__()  \n",
    "    \n",
    "    self.cod = Sequential(Linear(d, n_ocultas),\n",
    "                          Sigmoid(),\n",
    "                          Linear(n_ocultas, n_salidas))\n",
    "    self.dec = Sequential(Linear(n_salidas, n_ocultas),\n",
    "                          Sigmoid(),\n",
    "                          Linear(n_ocultas, d))\n",
    "\n",
    "  def forward(self, x):\n",
    "    z = self.cod(x)\n",
    "    x = self.dec(z)\n",
    "\n",
    "    return x"
   ]
  },
  {
   "cell_type": "markdown",
   "metadata": {
    "id": "8NgbBQt8PZtt"
   },
   "source": [
    "Probemos nuestro autocodificador con datos generados aleatorioriamente."
   ]
  },
  {
   "cell_type": "code",
   "execution_count": 3,
   "metadata": {
    "colab": {
     "base_uri": "https://localhost:8080/"
    },
    "id": "zSePCBnELufX",
    "outputId": "986b2a26-629c-4eee-9e52-80df32e94f1b"
   },
   "outputs": [
    {
     "name": "stdout",
     "output_type": "stream",
     "text": [
      "tensor([[0.6818, 0.7479, 0.0369, 0.7517],\n",
      "        [0.1484, 0.1227, 0.5304, 0.4148],\n",
      "        [0.7937, 0.2104, 0.0555, 0.8639],\n",
      "        [0.4259, 0.7812, 0.6607, 0.1251],\n",
      "        [0.6004, 0.6201, 0.1652, 0.2628],\n",
      "        [0.6705, 0.5896, 0.2873, 0.3486],\n",
      "        [0.9579, 0.4075, 0.7819, 0.7165],\n",
      "        [0.1768, 0.0748, 0.9799, 0.5261],\n",
      "        [0.8427, 0.6036, 0.6608, 0.8735],\n",
      "        [0.9741, 0.1682, 0.5625, 0.8731],\n",
      "        [0.8622, 0.8106, 0.1381, 0.1399],\n",
      "        [0.1976, 0.5628, 0.9983, 0.1842],\n",
      "        [0.7664, 0.2233, 0.0299, 0.3937],\n",
      "        [0.7881, 0.9642, 0.1895, 0.6085],\n",
      "        [0.9314, 0.8313, 0.8116, 0.8553],\n",
      "        [0.8163, 0.6291, 0.1581, 0.0801]])\n",
      "torch.Size([16, 4])\n",
      "tensor([[-0.0167,  0.3971],\n",
      "        [-0.0121,  0.3746],\n",
      "        [-0.0357,  0.3708],\n",
      "        [-0.0053,  0.3707],\n",
      "        [-0.0306,  0.3797],\n",
      "        [-0.0271,  0.3705],\n",
      "        [-0.0146,  0.3322],\n",
      "        [ 0.0047,  0.3532],\n",
      "        [-0.0021,  0.3558],\n",
      "        [-0.0259,  0.3354],\n",
      "        [-0.0394,  0.3696],\n",
      "        [ 0.0099,  0.3621],\n",
      "        [-0.0513,  0.3634],\n",
      "        [-0.0129,  0.3886],\n",
      "        [ 0.0070,  0.3521],\n",
      "        [-0.0453,  0.3631]], grad_fn=<AddmmBackward>)\n",
      "torch.Size([16, 2])\n",
      "tensor([[ 0.6423,  0.0897,  0.3511, -0.1753],\n",
      "        [ 0.6415,  0.0888,  0.3496, -0.1727],\n",
      "        [ 0.6421,  0.0886,  0.3499, -0.1733],\n",
      "        [ 0.6411,  0.0886,  0.3492, -0.1720],\n",
      "        [ 0.6422,  0.0890,  0.3503, -0.1740],\n",
      "        [ 0.6418,  0.0886,  0.3497, -0.1729],\n",
      "        [ 0.6402,  0.0871,  0.3470, -0.1683],\n",
      "        [ 0.6403,  0.0879,  0.3479, -0.1698],\n",
      "        [ 0.6406,  0.0880,  0.3482, -0.1703],\n",
      "        [ 0.6407,  0.0872,  0.3474, -0.1691],\n",
      "        [ 0.6422,  0.0886,  0.3499, -0.1733],\n",
      "        [ 0.6404,  0.0883,  0.3483, -0.1705],\n",
      "        [ 0.6424,  0.0883,  0.3498, -0.1731],\n",
      "        [ 0.6419,  0.0894,  0.3505, -0.1742],\n",
      "        [ 0.6402,  0.0879,  0.3477, -0.1696],\n",
      "        [ 0.6422,  0.0883,  0.3496, -0.1729]], grad_fn=<AddmmBackward>)\n",
      "torch.Size([16, 4])\n"
     ]
    }
   ],
   "source": [
    "ac = Autocodificador(d=4, n_ocultas=5, n_salidas=2)\n",
    "x = torch.rand(16,4)\n",
    "print(x)\n",
    "print(x.shape)\n",
    "print(ac.cod(x))\n",
    "print(ac.cod(x).shape)\n",
    "print(ac(x))\n",
    "print(ac(x).shape)"
   ]
  },
  {
   "cell_type": "markdown",
   "metadata": {
    "id": "ehYDqB3dWbvT"
   },
   "source": [
    "Creamos una subclase de `Dataset` para cargar los tres conjuntos de datos que utilizaremos. "
   ]
  },
  {
   "cell_type": "code",
   "execution_count": 4,
   "metadata": {
    "id": "SAJkY3q2eouW"
   },
   "outputs": [],
   "source": [
    "class MiDS(Dataset):    \n",
    "    def __init__(self, X):\n",
    "        self.x = X\n",
    "\n",
    "    def __getitem__(self, i):\n",
    "        return self.x[i]\n",
    "\n",
    "    def __len__(self):\n",
    "        return len(self.x)"
   ]
  },
  {
   "cell_type": "markdown",
   "metadata": {
    "id": "5cxGkFdSPzbd"
   },
   "source": [
    "Probamos esta subclase con los datos generados aleatoriamente."
   ]
  },
  {
   "cell_type": "code",
   "execution_count": 6,
   "metadata": {
    "colab": {
     "base_uri": "https://localhost:8080/"
    },
    "id": "x2DycYOkO6vV",
    "outputId": "e9788ee6-76b3-4a2e-c449-fe271898d76d"
   },
   "outputs": [
    {
     "name": "stdout",
     "output_type": "stream",
     "text": [
      "16\n",
      "tensor([0.1484, 0.1227, 0.5304, 0.4148])\n"
     ]
    }
   ],
   "source": [
    "ds = MiDS(x)\n",
    "print(len(ds))\n",
    "print(ds[1])"
   ]
  },
  {
   "cell_type": "markdown",
   "metadata": {
    "id": "kTOEq6SgWZdF"
   },
   "source": [
    "Para hacer más fácil la generación de los cargadores de datos de los tres conjuntos de datos, definimos una función que toma un arreglo de NumPy y el tamaño de lote, estandariza los datos y crea y regresa el cargador de datos."
   ]
  },
  {
   "cell_type": "code",
   "execution_count": 7,
   "metadata": {
    "id": "4rL6FGK5QOaP"
   },
   "outputs": [],
   "source": [
    "def numpy_a_dataloader(X, t_lote):\n",
    "  sc = StandardScaler()\n",
    "  X = sc.fit_transform(X).astype('float32')\n",
    "\n",
    "  ds = MiDS(X)\n",
    "  print('Tamaño del conjunto de datos: {0}'.format(len(ds)))\n",
    "\n",
    "  dl = DataLoader(ds, \n",
    "                  batch_size=t_lote, \n",
    "                  shuffle=True)\n",
    "\n",
    "  for x in take(dl, 1):\n",
    "    print(f'x shape={x.shape} dtype={x.dtype}')\n",
    "\n",
    "  return X, dl"
   ]
  },
  {
   "cell_type": "markdown",
   "metadata": {
    "id": "R_S-WIPcQYo_"
   },
   "source": [
    "Probamos nuestra función con los datos generados aleatoriamente."
   ]
  },
  {
   "cell_type": "code",
   "execution_count": 8,
   "metadata": {
    "colab": {
     "base_uri": "https://localhost:8080/"
    },
    "id": "Pm_SJtngPJ8u",
    "outputId": "952711ae-9422-466c-b9d0-c532a15393cb"
   },
   "outputs": [
    {
     "name": "stdout",
     "output_type": "stream",
     "text": [
      "Tamaño del conjunto de datos: 16\n",
      "x shape=torch.Size([2, 4]) dtype=torch.float32\n"
     ]
    }
   ],
   "source": [
    "x, dl = numpy_a_dataloader(x, 2)"
   ]
  },
  {
   "cell_type": "markdown",
   "metadata": {
    "id": "SUMUO6yRQdQt"
   },
   "source": [
    "Encapsulamos la definición, el entrenamiento y la inferencia de los autocodificadores que vamos evaluar en una clase."
   ]
  },
  {
   "cell_type": "code",
   "execution_count": 9,
   "metadata": {
    "id": "y7jupNGxHljn"
   },
   "outputs": [],
   "source": [
    "class Modelo:\n",
    "  def __init__(self, d, n_ocultas=10, n_salidas=2):\n",
    "    self.ac = Autocodificador(d=d, n_ocultas=n_ocultas, n_salidas=n_salidas)\n",
    " \n",
    "  def fit(self, X, n_epocas=100):\n",
    "    opt = Adam(self.ac.parameters())\n",
    "\n",
    "    perdidas = []\n",
    "    for e in range(n_epocas):   \n",
    "      perdidas_epoca = [] \n",
    "      for r in X:\n",
    "        xs = self.ac(r)\n",
    "        p = torch.nn.functional.mse_loss(xs, r)\n",
    "        opt.zero_grad()\n",
    "        p.backward()\n",
    "        opt.step()\n",
    "        perdidas_epoca.append(p.item())\n",
    "      \n",
    "      perdidas.append(np.mean(perdidas_epoca))\n",
    "\n",
    "    return perdidas\n",
    "\n",
    "  def transform(self, X):\n",
    "    with torch.no_grad():\n",
    "      return self.ac.cod(torch.from_numpy(X)).numpy()"
   ]
  },
  {
   "cell_type": "markdown",
   "metadata": {
    "id": "80xNzPOjV2mk"
   },
   "source": [
    "Finalmente, creamos una función para visualizar los datos mapeados por el codificador y comparándolos con los de PCA."
   ]
  },
  {
   "cell_type": "code",
   "execution_count": 44,
   "metadata": {
    "id": "ePwDQBJLPgSX"
   },
   "outputs": [],
   "source": [
    "def grafica_mapeos(X_ac, X_pca, y, etiquetas):\n",
    "  fig, (ax1, ax2) = plt.subplots(1, 2)\n",
    "  print('Datos Totales: ', X_ac.shape[0])\n",
    "\n",
    "  for e in etiquetas:\n",
    "    ax1.scatter(X_ac[y==e, 0], \n",
    "                X_ac[y==e, 1], \n",
    "                label=e)\n",
    "    print('Datos en clase {} con autocodificador: '.format(e), (X_ac[y==e, 0].shape[0]))\n",
    "\n",
    "    ax2.scatter(X_pca[y==e, 0], \n",
    "                X_pca[y==e, 1], \n",
    "                label=e)\n",
    "    print('Datos en clase {} con PCA: '.format(e), (X_pca[y==e, 0].shape[0]))\n",
    "    \n",
    "  ax1.set_title('Autocodificador')\n",
    "  ax2.set_title('PCA')"
   ]
  },
  {
   "cell_type": "markdown",
   "metadata": {
    "id": "w7meg8JOiOns"
   },
   "source": [
    "## Conjunto de datos de la flor Iris\n",
    "Se carga el conjunto de datos Iris usando las funciones predefinidas de PyTorch:"
   ]
  },
  {
   "cell_type": "code",
   "execution_count": 36,
   "metadata": {
    "colab": {
     "base_uri": "https://localhost:8080/"
    },
    "id": "qlQELSowPD8_",
    "outputId": "87b1a583-7c79-40d4-a51c-0dfc7db43416"
   },
   "outputs": [
    {
     "name": "stdout",
     "output_type": "stream",
     "text": [
      "Using downloaded and verified file: ../data/iris/iris.csv\n"
     ]
    }
   ],
   "source": [
    "download_url(URL, base_dir, filename)"
   ]
  },
  {
   "cell_type": "markdown",
   "metadata": {
    "id": "SffbmoNmQ_tN"
   },
   "source": [
    "Leemos el archivo y mostramos algunos ejemplos."
   ]
  },
  {
   "cell_type": "code",
   "execution_count": 37,
   "metadata": {
    "colab": {
     "base_uri": "https://localhost:8080/",
     "height": 202
    },
    "id": "TIgxGMtQPKzu",
    "outputId": "bc02bfa3-166a-4a19-ca82-c1b325abfab8"
   },
   "outputs": [
    {
     "data": {
      "text/html": [
       "<div>\n",
       "<style scoped>\n",
       "    .dataframe tbody tr th:only-of-type {\n",
       "        vertical-align: middle;\n",
       "    }\n",
       "\n",
       "    .dataframe tbody tr th {\n",
       "        vertical-align: top;\n",
       "    }\n",
       "\n",
       "    .dataframe thead th {\n",
       "        text-align: right;\n",
       "    }\n",
       "</style>\n",
       "<table border=\"1\" class=\"dataframe\">\n",
       "  <thead>\n",
       "    <tr style=\"text-align: right;\">\n",
       "      <th></th>\n",
       "      <th>largo sépalo</th>\n",
       "      <th>ancho sépalo</th>\n",
       "      <th>largo pétalo</th>\n",
       "      <th>ancho pétalo</th>\n",
       "      <th>clase</th>\n",
       "    </tr>\n",
       "  </thead>\n",
       "  <tbody>\n",
       "    <tr>\n",
       "      <th>0</th>\n",
       "      <td>5.1</td>\n",
       "      <td>3.5</td>\n",
       "      <td>1.4</td>\n",
       "      <td>0.2</td>\n",
       "      <td>Iris-setosa</td>\n",
       "    </tr>\n",
       "    <tr>\n",
       "      <th>1</th>\n",
       "      <td>4.9</td>\n",
       "      <td>3.0</td>\n",
       "      <td>1.4</td>\n",
       "      <td>0.2</td>\n",
       "      <td>Iris-setosa</td>\n",
       "    </tr>\n",
       "    <tr>\n",
       "      <th>2</th>\n",
       "      <td>4.7</td>\n",
       "      <td>3.2</td>\n",
       "      <td>1.3</td>\n",
       "      <td>0.2</td>\n",
       "      <td>Iris-setosa</td>\n",
       "    </tr>\n",
       "    <tr>\n",
       "      <th>3</th>\n",
       "      <td>4.6</td>\n",
       "      <td>3.1</td>\n",
       "      <td>1.5</td>\n",
       "      <td>0.2</td>\n",
       "      <td>Iris-setosa</td>\n",
       "    </tr>\n",
       "    <tr>\n",
       "      <th>4</th>\n",
       "      <td>5.0</td>\n",
       "      <td>3.6</td>\n",
       "      <td>1.4</td>\n",
       "      <td>0.2</td>\n",
       "      <td>Iris-setosa</td>\n",
       "    </tr>\n",
       "  </tbody>\n",
       "</table>\n",
       "</div>"
      ],
      "text/plain": [
       "   largo sépalo  ancho sépalo  largo pétalo  ancho pétalo        clase\n",
       "0           5.1           3.5           1.4           0.2  Iris-setosa\n",
       "1           4.9           3.0           1.4           0.2  Iris-setosa\n",
       "2           4.7           3.2           1.3           0.2  Iris-setosa\n",
       "3           4.6           3.1           1.5           0.2  Iris-setosa\n",
       "4           5.0           3.6           1.4           0.2  Iris-setosa"
      ]
     },
     "execution_count": 37,
     "metadata": {},
     "output_type": "execute_result"
    }
   ],
   "source": [
    "columns = ('largo sépalo', 'ancho sépalo', 'largo pétalo', 'ancho pétalo', 'clase')\n",
    "df = pd.read_csv('../data/iris/iris.csv', names=columns)\n",
    "df.head()"
   ]
  },
  {
   "cell_type": "markdown",
   "metadata": {
    "id": "xvCehwkcRHJ-"
   },
   "source": [
    "Extraemos los atributos de las flores en un arreglo de NumPy (omitiendo la clase) y creamos nuestro cargador de datos."
   ]
  },
  {
   "cell_type": "code",
   "execution_count": 38,
   "metadata": {
    "colab": {
     "base_uri": "https://localhost:8080/"
    },
    "id": "v6xbMX2kRjjA",
    "outputId": "64b3a8c5-b040-4587-b6aa-06bafdd71ccc"
   },
   "outputs": [
    {
     "name": "stdout",
     "output_type": "stream",
     "text": [
      "Tamaño del conjunto de datos: 150\n",
      "x shape=torch.Size([10, 4]) dtype=torch.float32\n"
     ]
    }
   ],
   "source": [
    "Xiris = df.loc[:, df.columns!='clase'].to_numpy()\n",
    "irisdim = Xiris.shape[-1]\n",
    "Xiris, irisdl = numpy_a_dataloader(Xiris, 10)"
   ]
  },
  {
   "cell_type": "markdown",
   "metadata": {
    "id": "EruevTCfRcxP"
   },
   "source": [
    "Instanciamos y entrenamos nuestro autocodificador con el cargador de datos creado."
   ]
  },
  {
   "cell_type": "code",
   "execution_count": 39,
   "metadata": {
    "colab": {
     "base_uri": "https://localhost:8080/",
     "height": 281
    },
    "id": "48GeWvuU2-gn",
    "outputId": "eadd8881-1aac-4177-9752-c0b7163c4acc"
   },
   "outputs": [
    {
     "data": {
      "image/png": "[encoded data removed]",
      "text/plain": [
       "<Figure size 432x288 with 1 Axes>"
      ]
     },
     "metadata": {
      "needs_background": "light"
     },
     "output_type": "display_data"
    }
   ],
   "source": [
    "irisac = Modelo(irisdim, 2, 2)\n",
    "perdidas = irisac.fit(irisdl)\n",
    "\n",
    "plt.plot(perdidas)\n",
    "plt.xlabel('Época')\n",
    "plt.ylabel('Pérdida')\n",
    "plt.show()"
   ]
  },
  {
   "cell_type": "markdown",
   "metadata": {
    "id": "Y9qAX2zORhEO"
   },
   "source": [
    "Mapeamos los datos a los vectores generador por el codificador entrenado."
   ]
  },
  {
   "cell_type": "code",
   "execution_count": 40,
   "metadata": {
    "id": "vbPvIHB7FCqu"
   },
   "outputs": [],
   "source": [
    "X_irisac = irisac.transform(Xiris)"
   ]
  },
  {
   "cell_type": "markdown",
   "metadata": {
    "id": "NQ_zZ-WehIqa"
   },
   "source": [
    "Se visualizan los vectores latentes y se comparan con los producidos por _Principal Component Analysis_ (PCA):\n",
    "\n"
   ]
  },
  {
   "cell_type": "code",
   "execution_count": 45,
   "metadata": {
    "colab": {
     "base_uri": "https://localhost:8080/",
     "height": 281
    },
    "id": "MrT7P7DeDcwu",
    "outputId": "ed8b3e2f-fd92-43c5-be73-e837006ae932"
   },
   "outputs": [
    {
     "name": "stdout",
     "output_type": "stream",
     "text": [
      "Datos Totales:  150\n",
      "Datos en clase Iris-setosa con autocodificador:  50\n",
      "Datos en clase Iris-setosa con PCA:  50\n",
      "Datos en clase Iris-versicolor con autocodificador:  50\n",
      "Datos en clase Iris-versicolor con PCA:  50\n",
      "Datos en clase Iris-virginica con autocodificador:  50\n",
      "Datos en clase Iris-virginica con PCA:  50\n"
     ]
    },
    {
     "data": {
      "image/png": "[encoded data removed]",
      "text/plain": [
       "<Figure size 432x288 with 2 Axes>"
      ]
     },
     "metadata": {
      "needs_background": "light"
     },
     "output_type": "display_data"
    }
   ],
   "source": [
    "irispca = PCA(n_components=2)\n",
    "X_irispca = irispca.fit_transform(Xiris)\n",
    "grafica_mapeos(X_irisac, X_irispca, df.clase, list(df.clase.unique()))"
   ]
  },
  {
   "cell_type": "markdown",
   "metadata": {
    "id": "_TiYXPBdiUZl"
   },
   "source": [
    "## Conjunto de datos de vinos"
   ]
  },
  {
   "cell_type": "markdown",
   "metadata": {
    "id": "NraqqRPfiDOt"
   },
   "source": [
    "Se carga el conjunto de datos Wine usando las funciones predefinidas de scikit-learn y se crea el cargador de datos:"
   ]
  },
  {
   "cell_type": "code",
   "execution_count": 46,
   "metadata": {
    "colab": {
     "base_uri": "https://localhost:8080/"
    },
    "id": "_4NieGcc8VdH",
    "outputId": "123110ef-a4e8-4f79-d83b-3ebe96cecc5b"
   },
   "outputs": [
    {
     "name": "stdout",
     "output_type": "stream",
     "text": [
      "Tamaño del conjunto de datos: 178\n",
      "x shape=torch.Size([10, 13]) dtype=torch.float32\n"
     ]
    }
   ],
   "source": [
    "vino = load_wine()\n",
    "vinodim = vino.data.shape[-1]\n",
    "Xvino, vinodl = numpy_a_dataloader(X=vino.data, t_lote=10)"
   ]
  },
  {
   "cell_type": "markdown",
   "metadata": {
    "id": "3kUlsyMGR6sY"
   },
   "source": [
    "Instanciamos y entrenamos el autocodificador con el cargador de datos creado."
   ]
  },
  {
   "cell_type": "code",
   "execution_count": 47,
   "metadata": {
    "colab": {
     "base_uri": "https://localhost:8080/",
     "height": 281
    },
    "id": "MUZ_KO2yBM3P",
    "outputId": "2bb4f0c3-bfb8-42f9-ab5f-02f1a32cc7a2"
   },
   "outputs": [
    {
     "data": {
      "image/png": "[encoded data removed]",
      "text/plain": [
       "<Figure size 432x288 with 1 Axes>"
      ]
     },
     "metadata": {
      "needs_background": "light"
     },
     "output_type": "display_data"
    }
   ],
   "source": [
    "vinoac = Modelo(vinodim)\n",
    "perdidas = vinoac.fit(vinodl)\n",
    "\n",
    "plt.plot(perdidas)\n",
    "plt.xlabel('Época')\n",
    "plt.ylabel('Pérdida')\n",
    "plt.show()"
   ]
  },
  {
   "cell_type": "markdown",
   "metadata": {
    "id": "F_LYQ7d_heZv"
   },
   "source": [
    "Se mapea el conjunto de datos a vectores producidos por el codificador entrenado."
   ]
  },
  {
   "cell_type": "code",
   "execution_count": 48,
   "metadata": {
    "id": "hDb8LtxsTCL_"
   },
   "outputs": [],
   "source": [
    "X_vinoac = vinoac.transform(Xvino)"
   ]
  },
  {
   "cell_type": "markdown",
   "metadata": {
    "id": "PFU9AXaIhi3_"
   },
   "source": [
    "Se visualizan los vectores latentes y se comparan con los producidos por _Principal Component Analysis_ (PCA):"
   ]
  },
  {
   "cell_type": "code",
   "execution_count": 49,
   "metadata": {
    "colab": {
     "base_uri": "https://localhost:8080/",
     "height": 281
    },
    "id": "CpL73_yXizO-",
    "outputId": "fb5b99ed-9da7-457e-a4de-c1a0df68c264"
   },
   "outputs": [
    {
     "name": "stdout",
     "output_type": "stream",
     "text": [
      "Datos Totales:  178\n",
      "Datos en clase 0 con autocodificador:  59\n",
      "Datos en clase 0 con PCA:  59\n",
      "Datos en clase 1 con autocodificador:  71\n",
      "Datos en clase 1 con PCA:  71\n",
      "Datos en clase 2 con autocodificador:  48\n",
      "Datos en clase 2 con PCA:  48\n"
     ]
    },
    {
     "data": {
      "image/png": "[encoded data removed]",
      "text/plain": [
       "<Figure size 432x288 with 2 Axes>"
      ]
     },
     "metadata": {
      "needs_background": "light"
     },
     "output_type": "display_data"
    }
   ],
   "source": [
    "pca = PCA(n_components=2)\n",
    "X_vinopca = pca.fit_transform(Xvino)\n",
    "grafica_mapeos(X_vinoac, X_vinopca, vino.target, np.unique(vino.target))"
   ]
  },
  {
   "cell_type": "markdown",
   "metadata": {
    "id": "jMlfU1imjKkN"
   },
   "source": [
    "## Conjunto de datos de dígitos"
   ]
  },
  {
   "cell_type": "markdown",
   "metadata": {
    "id": "4W8qFEAEiMvo"
   },
   "source": [
    "Se carga el conjunto de datos Digits usando las funciones predefinidas de scikit-learn y se crea el cargador de datos."
   ]
  },
  {
   "cell_type": "code",
   "execution_count": 50,
   "metadata": {
    "colab": {
     "base_uri": "https://localhost:8080/"
    },
    "id": "PD1WgNyyjKWt",
    "outputId": "6ef26a2e-d16f-4282-ba4d-7ac38e6aa906"
   },
   "outputs": [
    {
     "name": "stdout",
     "output_type": "stream",
     "text": [
      "Tamaño del conjunto de datos: 1797\n",
      "x shape=torch.Size([10, 64]) dtype=torch.float32\n"
     ]
    }
   ],
   "source": [
    "digitos = load_digits()\n",
    "digitosdim = digitos.data.shape[-1]\n",
    "Xdigitos, digitosdl = numpy_a_dataloader(X=digitos.data, t_lote=10)"
   ]
  },
  {
   "cell_type": "markdown",
   "metadata": {
    "id": "Bbp9Kf91hgtZ"
   },
   "source": [
    "Se instancia y entrena un autcodificador con el cargador de datos creado."
   ]
  },
  {
   "cell_type": "code",
   "execution_count": 51,
   "metadata": {
    "colab": {
     "base_uri": "https://localhost:8080/",
     "height": 281
    },
    "id": "NPneZZXajC1G",
    "outputId": "f064c00c-d5c0-45dc-8975-6352a00b72f4"
   },
   "outputs": [
    {
     "data": {
      "image/png": "[encoded data removed]",
      "text/plain": [
       "<Figure size 432x288 with 1 Axes>"
      ]
     },
     "metadata": {
      "needs_background": "light"
     },
     "output_type": "display_data"
    }
   ],
   "source": [
    "digitosac = Modelo(digitosdim)\n",
    "perdidas = digitosac.fit(digitosdl)\n",
    "\n",
    "plt.plot(perdidas)\n",
    "plt.xlabel('Época')\n",
    "plt.ylabel('Pérdida')\n",
    "plt.show()"
   ]
  },
  {
   "cell_type": "markdown",
   "metadata": {
    "id": "rbYqpY3sSlPm"
   },
   "source": [
    "Se mapea el conjunto de datos con el codificador entrenado."
   ]
  },
  {
   "cell_type": "code",
   "execution_count": 52,
   "metadata": {
    "id": "ZfVV0DK-U9DA"
   },
   "outputs": [],
   "source": [
    "X_digitosac = digitosac.transform(Xdigitos)"
   ]
  },
  {
   "cell_type": "markdown",
   "metadata": {
    "id": "EzpYRsvYh0Rw"
   },
   "source": [
    "Se visualizan los vectores latentes y se comparan con los producidos por _Principal Component Analysis_ (PCA)."
   ]
  },
  {
   "cell_type": "code",
   "execution_count": 53,
   "metadata": {
    "colab": {
     "base_uri": "https://localhost:8080/",
     "height": 281
    },
    "id": "K9o_KDgxjeD2",
    "outputId": "3b11fab9-07fd-4ac1-f8d4-ffa03c2ba198"
   },
   "outputs": [
    {
     "name": "stdout",
     "output_type": "stream",
     "text": [
      "Datos Totales:  1797\n",
      "Datos en clase 0 con autocodificador:  178\n",
      "Datos en clase 0 con PCA:  178\n",
      "Datos en clase 1 con autocodificador:  182\n",
      "Datos en clase 1 con PCA:  182\n",
      "Datos en clase 2 con autocodificador:  177\n",
      "Datos en clase 2 con PCA:  177\n",
      "Datos en clase 3 con autocodificador:  183\n",
      "Datos en clase 3 con PCA:  183\n",
      "Datos en clase 4 con autocodificador:  181\n",
      "Datos en clase 4 con PCA:  181\n",
      "Datos en clase 5 con autocodificador:  182\n",
      "Datos en clase 5 con PCA:  182\n",
      "Datos en clase 6 con autocodificador:  181\n",
      "Datos en clase 6 con PCA:  181\n",
      "Datos en clase 7 con autocodificador:  179\n",
      "Datos en clase 7 con PCA:  179\n",
      "Datos en clase 8 con autocodificador:  174\n",
      "Datos en clase 8 con PCA:  174\n",
      "Datos en clase 9 con autocodificador:  180\n",
      "Datos en clase 9 con PCA:  180\n"
     ]
    },
    {
     "data": {
      "image/png": "[encoded data removed]",
      "text/plain": [
       "<Figure size 432x288 with 2 Axes>"
      ]
     },
     "metadata": {
      "needs_background": "light"
     },
     "output_type": "display_data"
    }
   ],
   "source": [
    "digitospca = PCA(n_components=2)\n",
    "X_digitospca = digitospca.fit_transform(Xdigitos)\n",
    "grafica_mapeos(X_digitosac, X_digitospca, digitos.target, np.unique(digitos.target))"
   ]
  },
  {
   "cell_type": "code",
   "execution_count": null,
   "metadata": {},
   "outputs": [],
   "source": []
  }
 ],
 "metadata": {
  "accelerator": "GPU",
  "colab": {
   "collapsed_sections": [],
   "include_colab_link": true,
   "name": "6a_autocodificadores.ipynb",
   "provenance": []
  },
  "kernelspec": {
   "display_name": "Python (cap)",
   "language": "python",
   "name": "cap"
  },
  "language_info": {
   "codemirror_mode": {
    "name": "ipython",
    "version": 3
   },
   "file_extension": ".py",
   "mimetype": "text/x-python",
   "name": "python",
   "nbconvert_exporter": "python",
   "pygments_lexer": "ipython3",
   "version": "3.6.12"
  }
 },
 "nbformat": 4,
 "nbformat_minor": 1
}
